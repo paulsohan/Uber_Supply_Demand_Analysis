{
  "cells": [
    {
      "cell_type": "code",
      "execution_count": null,
      "metadata": {
        "id": "qD1pF3jg1QeK"
      },
      "outputs": [],
      "source": [
        "import pandas as pd\n",
        "import numpy as np\n",
        "import matplotlib.pyplot as plt\n",
        "import seaborn as sns"
      ]
    },
    {
      "cell_type": "markdown",
      "metadata": {
        "id": "Xv22PITp2L9-"
      },
      "source": [
        "#Data Collection and Analysis"
      ]
    },
    {
      "cell_type": "code",
      "execution_count": null,
      "metadata": {
        "id": "l3hS0KtN2Je8"
      },
      "outputs": [],
      "source": [
        "df = pd.read_csv('Uber Request Data.csv')"
      ]
    },
    {
      "cell_type": "code",
      "execution_count": null,
      "metadata": {
        "colab": {
          "base_uri": "https://localhost:8080/",
          "height": 206
        },
        "id": "p2BbdgraalRf",
        "outputId": "100dba44-4147-4347-e359-98cf8baaa738"
      },
      "outputs": [
        {
          "output_type": "execute_result",
          "data": {
            "text/plain": [
              "   Request id Pickup point  Driver id          Status    Request timestamp  \\\n",
              "0         619      Airport        1.0  Trip Completed      11/7/2016 11:51   \n",
              "1         867      Airport        1.0  Trip Completed      11/7/2016 17:57   \n",
              "2        1807         City        1.0  Trip Completed       12/7/2016 9:17   \n",
              "3        2532      Airport        1.0  Trip Completed      12/7/2016 21:08   \n",
              "4        3112         City        1.0  Trip Completed  13-07-2016 08:33:16   \n",
              "\n",
              "        Drop timestamp  \n",
              "0      11/7/2016 13:00  \n",
              "1      11/7/2016 18:47  \n",
              "2       12/7/2016 9:58  \n",
              "3      12/7/2016 22:03  \n",
              "4  13-07-2016 09:25:47  "
            ],
            "text/html": [
              "\n",
              "  <div id=\"df-68a897ae-4118-4621-b96c-cd8cea6e9100\">\n",
              "    <div class=\"colab-df-container\">\n",
              "      <div>\n",
              "<style scoped>\n",
              "    .dataframe tbody tr th:only-of-type {\n",
              "        vertical-align: middle;\n",
              "    }\n",
              "\n",
              "    .dataframe tbody tr th {\n",
              "        vertical-align: top;\n",
              "    }\n",
              "\n",
              "    .dataframe thead th {\n",
              "        text-align: right;\n",
              "    }\n",
              "</style>\n",
              "<table border=\"1\" class=\"dataframe\">\n",
              "  <thead>\n",
              "    <tr style=\"text-align: right;\">\n",
              "      <th></th>\n",
              "      <th>Request id</th>\n",
              "      <th>Pickup point</th>\n",
              "      <th>Driver id</th>\n",
              "      <th>Status</th>\n",
              "      <th>Request timestamp</th>\n",
              "      <th>Drop timestamp</th>\n",
              "    </tr>\n",
              "  </thead>\n",
              "  <tbody>\n",
              "    <tr>\n",
              "      <th>0</th>\n",
              "      <td>619</td>\n",
              "      <td>Airport</td>\n",
              "      <td>1.0</td>\n",
              "      <td>Trip Completed</td>\n",
              "      <td>11/7/2016 11:51</td>\n",
              "      <td>11/7/2016 13:00</td>\n",
              "    </tr>\n",
              "    <tr>\n",
              "      <th>1</th>\n",
              "      <td>867</td>\n",
              "      <td>Airport</td>\n",
              "      <td>1.0</td>\n",
              "      <td>Trip Completed</td>\n",
              "      <td>11/7/2016 17:57</td>\n",
              "      <td>11/7/2016 18:47</td>\n",
              "    </tr>\n",
              "    <tr>\n",
              "      <th>2</th>\n",
              "      <td>1807</td>\n",
              "      <td>City</td>\n",
              "      <td>1.0</td>\n",
              "      <td>Trip Completed</td>\n",
              "      <td>12/7/2016 9:17</td>\n",
              "      <td>12/7/2016 9:58</td>\n",
              "    </tr>\n",
              "    <tr>\n",
              "      <th>3</th>\n",
              "      <td>2532</td>\n",
              "      <td>Airport</td>\n",
              "      <td>1.0</td>\n",
              "      <td>Trip Completed</td>\n",
              "      <td>12/7/2016 21:08</td>\n",
              "      <td>12/7/2016 22:03</td>\n",
              "    </tr>\n",
              "    <tr>\n",
              "      <th>4</th>\n",
              "      <td>3112</td>\n",
              "      <td>City</td>\n",
              "      <td>1.0</td>\n",
              "      <td>Trip Completed</td>\n",
              "      <td>13-07-2016 08:33:16</td>\n",
              "      <td>13-07-2016 09:25:47</td>\n",
              "    </tr>\n",
              "  </tbody>\n",
              "</table>\n",
              "</div>\n",
              "      <button class=\"colab-df-convert\" onclick=\"convertToInteractive('df-68a897ae-4118-4621-b96c-cd8cea6e9100')\"\n",
              "              title=\"Convert this dataframe to an interactive table.\"\n",
              "              style=\"display:none;\">\n",
              "        \n",
              "  <svg xmlns=\"http://www.w3.org/2000/svg\" height=\"24px\"viewBox=\"0 0 24 24\"\n",
              "       width=\"24px\">\n",
              "    <path d=\"M0 0h24v24H0V0z\" fill=\"none\"/>\n",
              "    <path d=\"M18.56 5.44l.94 2.06.94-2.06 2.06-.94-2.06-.94-.94-2.06-.94 2.06-2.06.94zm-11 1L8.5 8.5l.94-2.06 2.06-.94-2.06-.94L8.5 2.5l-.94 2.06-2.06.94zm10 10l.94 2.06.94-2.06 2.06-.94-2.06-.94-.94-2.06-.94 2.06-2.06.94z\"/><path d=\"M17.41 7.96l-1.37-1.37c-.4-.4-.92-.59-1.43-.59-.52 0-1.04.2-1.43.59L10.3 9.45l-7.72 7.72c-.78.78-.78 2.05 0 2.83L4 21.41c.39.39.9.59 1.41.59.51 0 1.02-.2 1.41-.59l7.78-7.78 2.81-2.81c.8-.78.8-2.07 0-2.86zM5.41 20L4 18.59l7.72-7.72 1.47 1.35L5.41 20z\"/>\n",
              "  </svg>\n",
              "      </button>\n",
              "      \n",
              "  <style>\n",
              "    .colab-df-container {\n",
              "      display:flex;\n",
              "      flex-wrap:wrap;\n",
              "      gap: 12px;\n",
              "    }\n",
              "\n",
              "    .colab-df-convert {\n",
              "      background-color: #E8F0FE;\n",
              "      border: none;\n",
              "      border-radius: 50%;\n",
              "      cursor: pointer;\n",
              "      display: none;\n",
              "      fill: #1967D2;\n",
              "      height: 32px;\n",
              "      padding: 0 0 0 0;\n",
              "      width: 32px;\n",
              "    }\n",
              "\n",
              "    .colab-df-convert:hover {\n",
              "      background-color: #E2EBFA;\n",
              "      box-shadow: 0px 1px 2px rgba(60, 64, 67, 0.3), 0px 1px 3px 1px rgba(60, 64, 67, 0.15);\n",
              "      fill: #174EA6;\n",
              "    }\n",
              "\n",
              "    [theme=dark] .colab-df-convert {\n",
              "      background-color: #3B4455;\n",
              "      fill: #D2E3FC;\n",
              "    }\n",
              "\n",
              "    [theme=dark] .colab-df-convert:hover {\n",
              "      background-color: #434B5C;\n",
              "      box-shadow: 0px 1px 3px 1px rgba(0, 0, 0, 0.15);\n",
              "      filter: drop-shadow(0px 1px 2px rgba(0, 0, 0, 0.3));\n",
              "      fill: #FFFFFF;\n",
              "    }\n",
              "  </style>\n",
              "\n",
              "      <script>\n",
              "        const buttonEl =\n",
              "          document.querySelector('#df-68a897ae-4118-4621-b96c-cd8cea6e9100 button.colab-df-convert');\n",
              "        buttonEl.style.display =\n",
              "          google.colab.kernel.accessAllowed ? 'block' : 'none';\n",
              "\n",
              "        async function convertToInteractive(key) {\n",
              "          const element = document.querySelector('#df-68a897ae-4118-4621-b96c-cd8cea6e9100');\n",
              "          const dataTable =\n",
              "            await google.colab.kernel.invokeFunction('convertToInteractive',\n",
              "                                                     [key], {});\n",
              "          if (!dataTable) return;\n",
              "\n",
              "          const docLinkHtml = 'Like what you see? Visit the ' +\n",
              "            '<a target=\"_blank\" href=https://colab.research.google.com/notebooks/data_table.ipynb>data table notebook</a>'\n",
              "            + ' to learn more about interactive tables.';\n",
              "          element.innerHTML = '';\n",
              "          dataTable['output_type'] = 'display_data';\n",
              "          await google.colab.output.renderOutput(dataTable, element);\n",
              "          const docLink = document.createElement('div');\n",
              "          docLink.innerHTML = docLinkHtml;\n",
              "          element.appendChild(docLink);\n",
              "        }\n",
              "      </script>\n",
              "    </div>\n",
              "  </div>\n",
              "  "
            ]
          },
          "metadata": {},
          "execution_count": 6
        }
      ],
      "source": [
        "df.head()"
      ]
    },
    {
      "cell_type": "markdown",
      "metadata": {
        "id": "r-8bqaq_a2W3"
      },
      "source": [
        "It is observed that the request & drop timestamp are not in proper datetime format"
      ]
    },
    {
      "cell_type": "code",
      "execution_count": null,
      "metadata": {
        "colab": {
          "base_uri": "https://localhost:8080/"
        },
        "id": "sCliDg_MaoGU",
        "outputId": "bce17c4f-53bd-4c27-888c-705c1850a6a6"
      },
      "outputs": [
        {
          "output_type": "stream",
          "name": "stdout",
          "text": [
            "<class 'pandas.core.frame.DataFrame'>\n",
            "RangeIndex: 6745 entries, 0 to 6744\n",
            "Data columns (total 6 columns):\n",
            " #   Column             Non-Null Count  Dtype  \n",
            "---  ------             --------------  -----  \n",
            " 0   Request id         6745 non-null   int64  \n",
            " 1   Pickup point       6745 non-null   object \n",
            " 2   Driver id          4095 non-null   float64\n",
            " 3   Status             6745 non-null   object \n",
            " 4   Request timestamp  6745 non-null   object \n",
            " 5   Drop timestamp     2831 non-null   object \n",
            "dtypes: float64(1), int64(1), object(4)\n",
            "memory usage: 316.3+ KB\n"
          ]
        }
      ],
      "source": [
        "df.info()"
      ]
    },
    {
      "cell_type": "markdown",
      "metadata": {
        "id": "zV-NAGI9bG9r"
      },
      "source": [
        "#Data Cleaning"
      ]
    },
    {
      "cell_type": "code",
      "execution_count": null,
      "metadata": {
        "colab": {
          "base_uri": "https://localhost:8080/"
        },
        "id": "8AtmjB3MatLs",
        "outputId": "5440b013-4b08-4b5a-c2c6-fe8a57888628"
      },
      "outputs": [
        {
          "output_type": "execute_result",
          "data": {
            "text/plain": [
              "True"
            ]
          },
          "metadata": {},
          "execution_count": 8
        }
      ],
      "source": [
        "sum(df.duplicated(subset = 'Request id')) == 0"
      ]
    },
    {
      "cell_type": "code",
      "execution_count": null,
      "metadata": {
        "colab": {
          "base_uri": "https://localhost:8080/"
        },
        "id": "ItbDAW74bVyX",
        "outputId": "bb5c63f5-7e04-413f-daa5-47b371d38ea3"
      },
      "outputs": [
        {
          "output_type": "execute_result",
          "data": {
            "text/plain": [
              "(6745, 6)"
            ]
          },
          "metadata": {},
          "execution_count": 9
        }
      ],
      "source": [
        "df.shape"
      ]
    },
    {
      "cell_type": "code",
      "execution_count": null,
      "metadata": {
        "colab": {
          "base_uri": "https://localhost:8080/"
        },
        "id": "ROH68vMXbZ2r",
        "outputId": "8ec986e8-b2c0-4f85-ba05-19a742a8a074"
      },
      "outputs": [
        {
          "output_type": "execute_result",
          "data": {
            "text/plain": [
              "Request id              0\n",
              "Pickup point            0\n",
              "Driver id            2650\n",
              "Status                  0\n",
              "Request timestamp       0\n",
              "Drop timestamp       3914\n",
              "dtype: int64"
            ]
          },
          "metadata": {},
          "execution_count": 10
        }
      ],
      "source": [
        "#Checking null values\n",
        "\n",
        "df.isnull().sum()"
      ]
    },
    {
      "cell_type": "code",
      "execution_count": null,
      "metadata": {
        "colab": {
          "base_uri": "https://localhost:8080/"
        },
        "id": "A44kK0Yrbp5p",
        "outputId": "b4526d19-7154-43b9-a7b0-dda0b346c80c"
      },
      "outputs": [
        {
          "output_type": "execute_result",
          "data": {
            "text/plain": [
              "6564"
            ]
          },
          "metadata": {},
          "execution_count": 11
        }
      ],
      "source": [
        "df.isnull().values.sum()"
      ]
    },
    {
      "cell_type": "code",
      "execution_count": null,
      "metadata": {
        "colab": {
          "base_uri": "https://localhost:8080/",
          "height": 237
        },
        "id": "kItRJNamb1eR",
        "outputId": "fd874494-2622-4bc4-ee90-e9dc8c3c8a05"
      },
      "outputs": [
        {
          "output_type": "execute_result",
          "data": {
            "text/plain": [
              "                       0\n",
              "Request id          0.00\n",
              "Pickup point        0.00\n",
              "Driver id          39.29\n",
              "Status              0.00\n",
              "Request timestamp   0.00\n",
              "Drop timestamp     58.03"
            ],
            "text/html": [
              "\n",
              "  <div id=\"df-8a222ad5-10f0-478d-a67f-d4a83a3fd025\">\n",
              "    <div class=\"colab-df-container\">\n",
              "      <div>\n",
              "<style scoped>\n",
              "    .dataframe tbody tr th:only-of-type {\n",
              "        vertical-align: middle;\n",
              "    }\n",
              "\n",
              "    .dataframe tbody tr th {\n",
              "        vertical-align: top;\n",
              "    }\n",
              "\n",
              "    .dataframe thead th {\n",
              "        text-align: right;\n",
              "    }\n",
              "</style>\n",
              "<table border=\"1\" class=\"dataframe\">\n",
              "  <thead>\n",
              "    <tr style=\"text-align: right;\">\n",
              "      <th></th>\n",
              "      <th>0</th>\n",
              "    </tr>\n",
              "  </thead>\n",
              "  <tbody>\n",
              "    <tr>\n",
              "      <th>Request id</th>\n",
              "      <td>0.00</td>\n",
              "    </tr>\n",
              "    <tr>\n",
              "      <th>Pickup point</th>\n",
              "      <td>0.00</td>\n",
              "    </tr>\n",
              "    <tr>\n",
              "      <th>Driver id</th>\n",
              "      <td>39.29</td>\n",
              "    </tr>\n",
              "    <tr>\n",
              "      <th>Status</th>\n",
              "      <td>0.00</td>\n",
              "    </tr>\n",
              "    <tr>\n",
              "      <th>Request timestamp</th>\n",
              "      <td>0.00</td>\n",
              "    </tr>\n",
              "    <tr>\n",
              "      <th>Drop timestamp</th>\n",
              "      <td>58.03</td>\n",
              "    </tr>\n",
              "  </tbody>\n",
              "</table>\n",
              "</div>\n",
              "      <button class=\"colab-df-convert\" onclick=\"convertToInteractive('df-8a222ad5-10f0-478d-a67f-d4a83a3fd025')\"\n",
              "              title=\"Convert this dataframe to an interactive table.\"\n",
              "              style=\"display:none;\">\n",
              "        \n",
              "  <svg xmlns=\"http://www.w3.org/2000/svg\" height=\"24px\"viewBox=\"0 0 24 24\"\n",
              "       width=\"24px\">\n",
              "    <path d=\"M0 0h24v24H0V0z\" fill=\"none\"/>\n",
              "    <path d=\"M18.56 5.44l.94 2.06.94-2.06 2.06-.94-2.06-.94-.94-2.06-.94 2.06-2.06.94zm-11 1L8.5 8.5l.94-2.06 2.06-.94-2.06-.94L8.5 2.5l-.94 2.06-2.06.94zm10 10l.94 2.06.94-2.06 2.06-.94-2.06-.94-.94-2.06-.94 2.06-2.06.94z\"/><path d=\"M17.41 7.96l-1.37-1.37c-.4-.4-.92-.59-1.43-.59-.52 0-1.04.2-1.43.59L10.3 9.45l-7.72 7.72c-.78.78-.78 2.05 0 2.83L4 21.41c.39.39.9.59 1.41.59.51 0 1.02-.2 1.41-.59l7.78-7.78 2.81-2.81c.8-.78.8-2.07 0-2.86zM5.41 20L4 18.59l7.72-7.72 1.47 1.35L5.41 20z\"/>\n",
              "  </svg>\n",
              "      </button>\n",
              "      \n",
              "  <style>\n",
              "    .colab-df-container {\n",
              "      display:flex;\n",
              "      flex-wrap:wrap;\n",
              "      gap: 12px;\n",
              "    }\n",
              "\n",
              "    .colab-df-convert {\n",
              "      background-color: #E8F0FE;\n",
              "      border: none;\n",
              "      border-radius: 50%;\n",
              "      cursor: pointer;\n",
              "      display: none;\n",
              "      fill: #1967D2;\n",
              "      height: 32px;\n",
              "      padding: 0 0 0 0;\n",
              "      width: 32px;\n",
              "    }\n",
              "\n",
              "    .colab-df-convert:hover {\n",
              "      background-color: #E2EBFA;\n",
              "      box-shadow: 0px 1px 2px rgba(60, 64, 67, 0.3), 0px 1px 3px 1px rgba(60, 64, 67, 0.15);\n",
              "      fill: #174EA6;\n",
              "    }\n",
              "\n",
              "    [theme=dark] .colab-df-convert {\n",
              "      background-color: #3B4455;\n",
              "      fill: #D2E3FC;\n",
              "    }\n",
              "\n",
              "    [theme=dark] .colab-df-convert:hover {\n",
              "      background-color: #434B5C;\n",
              "      box-shadow: 0px 1px 3px 1px rgba(0, 0, 0, 0.15);\n",
              "      filter: drop-shadow(0px 1px 2px rgba(0, 0, 0, 0.3));\n",
              "      fill: #FFFFFF;\n",
              "    }\n",
              "  </style>\n",
              "\n",
              "      <script>\n",
              "        const buttonEl =\n",
              "          document.querySelector('#df-8a222ad5-10f0-478d-a67f-d4a83a3fd025 button.colab-df-convert');\n",
              "        buttonEl.style.display =\n",
              "          google.colab.kernel.accessAllowed ? 'block' : 'none';\n",
              "\n",
              "        async function convertToInteractive(key) {\n",
              "          const element = document.querySelector('#df-8a222ad5-10f0-478d-a67f-d4a83a3fd025');\n",
              "          const dataTable =\n",
              "            await google.colab.kernel.invokeFunction('convertToInteractive',\n",
              "                                                     [key], {});\n",
              "          if (!dataTable) return;\n",
              "\n",
              "          const docLinkHtml = 'Like what you see? Visit the ' +\n",
              "            '<a target=\"_blank\" href=https://colab.research.google.com/notebooks/data_table.ipynb>data table notebook</a>'\n",
              "            + ' to learn more about interactive tables.';\n",
              "          element.innerHTML = '';\n",
              "          dataTable['output_type'] = 'display_data';\n",
              "          await google.colab.output.renderOutput(dataTable, element);\n",
              "          const docLink = document.createElement('div');\n",
              "          docLink.innerHTML = docLinkHtml;\n",
              "          element.appendChild(docLink);\n",
              "        }\n",
              "      </script>\n",
              "    </div>\n",
              "  </div>\n",
              "  "
            ]
          },
          "metadata": {},
          "execution_count": 12
        }
      ],
      "source": [
        "pd.DataFrame(round((100*(df.isnull().sum()/len(df.index))), 2))"
      ]
    },
    {
      "cell_type": "code",
      "execution_count": null,
      "metadata": {
        "colab": {
          "base_uri": "https://localhost:8080/",
          "height": 424
        },
        "id": "piNY0ykxcdGD",
        "outputId": "daba039d-c7fa-40aa-ce8b-db1916bb6156"
      },
      "outputs": [
        {
          "output_type": "execute_result",
          "data": {
            "text/plain": [
              "      0\n",
              "0     0\n",
              "1     0\n",
              "2     0\n",
              "3     0\n",
              "4     0\n",
              "...  ..\n",
              "6740  2\n",
              "6741  2\n",
              "6742  2\n",
              "6743  2\n",
              "6744  2\n",
              "\n",
              "[6745 rows x 1 columns]"
            ],
            "text/html": [
              "\n",
              "  <div id=\"df-46c97480-3b36-4575-b20b-3bab9313b294\">\n",
              "    <div class=\"colab-df-container\">\n",
              "      <div>\n",
              "<style scoped>\n",
              "    .dataframe tbody tr th:only-of-type {\n",
              "        vertical-align: middle;\n",
              "    }\n",
              "\n",
              "    .dataframe tbody tr th {\n",
              "        vertical-align: top;\n",
              "    }\n",
              "\n",
              "    .dataframe thead th {\n",
              "        text-align: right;\n",
              "    }\n",
              "</style>\n",
              "<table border=\"1\" class=\"dataframe\">\n",
              "  <thead>\n",
              "    <tr style=\"text-align: right;\">\n",
              "      <th></th>\n",
              "      <th>0</th>\n",
              "    </tr>\n",
              "  </thead>\n",
              "  <tbody>\n",
              "    <tr>\n",
              "      <th>0</th>\n",
              "      <td>0</td>\n",
              "    </tr>\n",
              "    <tr>\n",
              "      <th>1</th>\n",
              "      <td>0</td>\n",
              "    </tr>\n",
              "    <tr>\n",
              "      <th>2</th>\n",
              "      <td>0</td>\n",
              "    </tr>\n",
              "    <tr>\n",
              "      <th>3</th>\n",
              "      <td>0</td>\n",
              "    </tr>\n",
              "    <tr>\n",
              "      <th>4</th>\n",
              "      <td>0</td>\n",
              "    </tr>\n",
              "    <tr>\n",
              "      <th>...</th>\n",
              "      <td>...</td>\n",
              "    </tr>\n",
              "    <tr>\n",
              "      <th>6740</th>\n",
              "      <td>2</td>\n",
              "    </tr>\n",
              "    <tr>\n",
              "      <th>6741</th>\n",
              "      <td>2</td>\n",
              "    </tr>\n",
              "    <tr>\n",
              "      <th>6742</th>\n",
              "      <td>2</td>\n",
              "    </tr>\n",
              "    <tr>\n",
              "      <th>6743</th>\n",
              "      <td>2</td>\n",
              "    </tr>\n",
              "    <tr>\n",
              "      <th>6744</th>\n",
              "      <td>2</td>\n",
              "    </tr>\n",
              "  </tbody>\n",
              "</table>\n",
              "<p>6745 rows × 1 columns</p>\n",
              "</div>\n",
              "      <button class=\"colab-df-convert\" onclick=\"convertToInteractive('df-46c97480-3b36-4575-b20b-3bab9313b294')\"\n",
              "              title=\"Convert this dataframe to an interactive table.\"\n",
              "              style=\"display:none;\">\n",
              "        \n",
              "  <svg xmlns=\"http://www.w3.org/2000/svg\" height=\"24px\"viewBox=\"0 0 24 24\"\n",
              "       width=\"24px\">\n",
              "    <path d=\"M0 0h24v24H0V0z\" fill=\"none\"/>\n",
              "    <path d=\"M18.56 5.44l.94 2.06.94-2.06 2.06-.94-2.06-.94-.94-2.06-.94 2.06-2.06.94zm-11 1L8.5 8.5l.94-2.06 2.06-.94-2.06-.94L8.5 2.5l-.94 2.06-2.06.94zm10 10l.94 2.06.94-2.06 2.06-.94-2.06-.94-.94-2.06-.94 2.06-2.06.94z\"/><path d=\"M17.41 7.96l-1.37-1.37c-.4-.4-.92-.59-1.43-.59-.52 0-1.04.2-1.43.59L10.3 9.45l-7.72 7.72c-.78.78-.78 2.05 0 2.83L4 21.41c.39.39.9.59 1.41.59.51 0 1.02-.2 1.41-.59l7.78-7.78 2.81-2.81c.8-.78.8-2.07 0-2.86zM5.41 20L4 18.59l7.72-7.72 1.47 1.35L5.41 20z\"/>\n",
              "  </svg>\n",
              "      </button>\n",
              "      \n",
              "  <style>\n",
              "    .colab-df-container {\n",
              "      display:flex;\n",
              "      flex-wrap:wrap;\n",
              "      gap: 12px;\n",
              "    }\n",
              "\n",
              "    .colab-df-convert {\n",
              "      background-color: #E8F0FE;\n",
              "      border: none;\n",
              "      border-radius: 50%;\n",
              "      cursor: pointer;\n",
              "      display: none;\n",
              "      fill: #1967D2;\n",
              "      height: 32px;\n",
              "      padding: 0 0 0 0;\n",
              "      width: 32px;\n",
              "    }\n",
              "\n",
              "    .colab-df-convert:hover {\n",
              "      background-color: #E2EBFA;\n",
              "      box-shadow: 0px 1px 2px rgba(60, 64, 67, 0.3), 0px 1px 3px 1px rgba(60, 64, 67, 0.15);\n",
              "      fill: #174EA6;\n",
              "    }\n",
              "\n",
              "    [theme=dark] .colab-df-convert {\n",
              "      background-color: #3B4455;\n",
              "      fill: #D2E3FC;\n",
              "    }\n",
              "\n",
              "    [theme=dark] .colab-df-convert:hover {\n",
              "      background-color: #434B5C;\n",
              "      box-shadow: 0px 1px 3px 1px rgba(0, 0, 0, 0.15);\n",
              "      filter: drop-shadow(0px 1px 2px rgba(0, 0, 0, 0.3));\n",
              "      fill: #FFFFFF;\n",
              "    }\n",
              "  </style>\n",
              "\n",
              "      <script>\n",
              "        const buttonEl =\n",
              "          document.querySelector('#df-46c97480-3b36-4575-b20b-3bab9313b294 button.colab-df-convert');\n",
              "        buttonEl.style.display =\n",
              "          google.colab.kernel.accessAllowed ? 'block' : 'none';\n",
              "\n",
              "        async function convertToInteractive(key) {\n",
              "          const element = document.querySelector('#df-46c97480-3b36-4575-b20b-3bab9313b294');\n",
              "          const dataTable =\n",
              "            await google.colab.kernel.invokeFunction('convertToInteractive',\n",
              "                                                     [key], {});\n",
              "          if (!dataTable) return;\n",
              "\n",
              "          const docLinkHtml = 'Like what you see? Visit the ' +\n",
              "            '<a target=\"_blank\" href=https://colab.research.google.com/notebooks/data_table.ipynb>data table notebook</a>'\n",
              "            + ' to learn more about interactive tables.';\n",
              "          element.innerHTML = '';\n",
              "          dataTable['output_type'] = 'display_data';\n",
              "          await google.colab.output.renderOutput(dataTable, element);\n",
              "          const docLink = document.createElement('div');\n",
              "          docLink.innerHTML = docLinkHtml;\n",
              "          element.appendChild(docLink);\n",
              "        }\n",
              "      </script>\n",
              "    </div>\n",
              "  </div>\n",
              "  "
            ]
          },
          "metadata": {},
          "execution_count": 13
        }
      ],
      "source": [
        "pd.DataFrame(df.isnull().sum(axis=1))"
      ]
    },
    {
      "cell_type": "code",
      "execution_count": null,
      "metadata": {
        "id": "RD4jsbgBcx3L"
      },
      "outputs": [],
      "source": [
        "#Converting Request Timestamp and Drop Timestamp columns to Datetime Objects\n",
        "\n",
        "df['Request timestamp'] = pd.to_datetime(df['Request timestamp'])\n",
        "df['Drop timestamp'] = pd.to_datetime(df['Drop timestamp'])"
      ]
    },
    {
      "cell_type": "code",
      "execution_count": null,
      "metadata": {
        "colab": {
          "base_uri": "https://localhost:8080/",
          "height": 206
        },
        "id": "UB-eRrT2eZPM",
        "outputId": "b40c790f-d8e4-41b3-98ab-d541cb8e89aa"
      },
      "outputs": [
        {
          "output_type": "execute_result",
          "data": {
            "text/plain": [
              "   Request id   Request timestamp      Drop timestamp\n",
              "0         619 2016-11-07 11:51:00 2016-11-07 13:00:00\n",
              "1         867 2016-11-07 17:57:00 2016-11-07 18:47:00\n",
              "2        1807 2016-12-07 09:17:00 2016-12-07 09:58:00\n",
              "3        2532 2016-12-07 21:08:00 2016-12-07 22:03:00\n",
              "4        3112 2016-07-13 08:33:16 2016-07-13 09:25:47"
            ],
            "text/html": [
              "\n",
              "  <div id=\"df-dd308288-6c8e-460e-83bf-562d67e905fa\">\n",
              "    <div class=\"colab-df-container\">\n",
              "      <div>\n",
              "<style scoped>\n",
              "    .dataframe tbody tr th:only-of-type {\n",
              "        vertical-align: middle;\n",
              "    }\n",
              "\n",
              "    .dataframe tbody tr th {\n",
              "        vertical-align: top;\n",
              "    }\n",
              "\n",
              "    .dataframe thead th {\n",
              "        text-align: right;\n",
              "    }\n",
              "</style>\n",
              "<table border=\"1\" class=\"dataframe\">\n",
              "  <thead>\n",
              "    <tr style=\"text-align: right;\">\n",
              "      <th></th>\n",
              "      <th>Request id</th>\n",
              "      <th>Request timestamp</th>\n",
              "      <th>Drop timestamp</th>\n",
              "    </tr>\n",
              "  </thead>\n",
              "  <tbody>\n",
              "    <tr>\n",
              "      <th>0</th>\n",
              "      <td>619</td>\n",
              "      <td>2016-11-07 11:51:00</td>\n",
              "      <td>2016-11-07 13:00:00</td>\n",
              "    </tr>\n",
              "    <tr>\n",
              "      <th>1</th>\n",
              "      <td>867</td>\n",
              "      <td>2016-11-07 17:57:00</td>\n",
              "      <td>2016-11-07 18:47:00</td>\n",
              "    </tr>\n",
              "    <tr>\n",
              "      <th>2</th>\n",
              "      <td>1807</td>\n",
              "      <td>2016-12-07 09:17:00</td>\n",
              "      <td>2016-12-07 09:58:00</td>\n",
              "    </tr>\n",
              "    <tr>\n",
              "      <th>3</th>\n",
              "      <td>2532</td>\n",
              "      <td>2016-12-07 21:08:00</td>\n",
              "      <td>2016-12-07 22:03:00</td>\n",
              "    </tr>\n",
              "    <tr>\n",
              "      <th>4</th>\n",
              "      <td>3112</td>\n",
              "      <td>2016-07-13 08:33:16</td>\n",
              "      <td>2016-07-13 09:25:47</td>\n",
              "    </tr>\n",
              "  </tbody>\n",
              "</table>\n",
              "</div>\n",
              "      <button class=\"colab-df-convert\" onclick=\"convertToInteractive('df-dd308288-6c8e-460e-83bf-562d67e905fa')\"\n",
              "              title=\"Convert this dataframe to an interactive table.\"\n",
              "              style=\"display:none;\">\n",
              "        \n",
              "  <svg xmlns=\"http://www.w3.org/2000/svg\" height=\"24px\"viewBox=\"0 0 24 24\"\n",
              "       width=\"24px\">\n",
              "    <path d=\"M0 0h24v24H0V0z\" fill=\"none\"/>\n",
              "    <path d=\"M18.56 5.44l.94 2.06.94-2.06 2.06-.94-2.06-.94-.94-2.06-.94 2.06-2.06.94zm-11 1L8.5 8.5l.94-2.06 2.06-.94-2.06-.94L8.5 2.5l-.94 2.06-2.06.94zm10 10l.94 2.06.94-2.06 2.06-.94-2.06-.94-.94-2.06-.94 2.06-2.06.94z\"/><path d=\"M17.41 7.96l-1.37-1.37c-.4-.4-.92-.59-1.43-.59-.52 0-1.04.2-1.43.59L10.3 9.45l-7.72 7.72c-.78.78-.78 2.05 0 2.83L4 21.41c.39.39.9.59 1.41.59.51 0 1.02-.2 1.41-.59l7.78-7.78 2.81-2.81c.8-.78.8-2.07 0-2.86zM5.41 20L4 18.59l7.72-7.72 1.47 1.35L5.41 20z\"/>\n",
              "  </svg>\n",
              "      </button>\n",
              "      \n",
              "  <style>\n",
              "    .colab-df-container {\n",
              "      display:flex;\n",
              "      flex-wrap:wrap;\n",
              "      gap: 12px;\n",
              "    }\n",
              "\n",
              "    .colab-df-convert {\n",
              "      background-color: #E8F0FE;\n",
              "      border: none;\n",
              "      border-radius: 50%;\n",
              "      cursor: pointer;\n",
              "      display: none;\n",
              "      fill: #1967D2;\n",
              "      height: 32px;\n",
              "      padding: 0 0 0 0;\n",
              "      width: 32px;\n",
              "    }\n",
              "\n",
              "    .colab-df-convert:hover {\n",
              "      background-color: #E2EBFA;\n",
              "      box-shadow: 0px 1px 2px rgba(60, 64, 67, 0.3), 0px 1px 3px 1px rgba(60, 64, 67, 0.15);\n",
              "      fill: #174EA6;\n",
              "    }\n",
              "\n",
              "    [theme=dark] .colab-df-convert {\n",
              "      background-color: #3B4455;\n",
              "      fill: #D2E3FC;\n",
              "    }\n",
              "\n",
              "    [theme=dark] .colab-df-convert:hover {\n",
              "      background-color: #434B5C;\n",
              "      box-shadow: 0px 1px 3px 1px rgba(0, 0, 0, 0.15);\n",
              "      filter: drop-shadow(0px 1px 2px rgba(0, 0, 0, 0.3));\n",
              "      fill: #FFFFFF;\n",
              "    }\n",
              "  </style>\n",
              "\n",
              "      <script>\n",
              "        const buttonEl =\n",
              "          document.querySelector('#df-dd308288-6c8e-460e-83bf-562d67e905fa button.colab-df-convert');\n",
              "        buttonEl.style.display =\n",
              "          google.colab.kernel.accessAllowed ? 'block' : 'none';\n",
              "\n",
              "        async function convertToInteractive(key) {\n",
              "          const element = document.querySelector('#df-dd308288-6c8e-460e-83bf-562d67e905fa');\n",
              "          const dataTable =\n",
              "            await google.colab.kernel.invokeFunction('convertToInteractive',\n",
              "                                                     [key], {});\n",
              "          if (!dataTable) return;\n",
              "\n",
              "          const docLinkHtml = 'Like what you see? Visit the ' +\n",
              "            '<a target=\"_blank\" href=https://colab.research.google.com/notebooks/data_table.ipynb>data table notebook</a>'\n",
              "            + ' to learn more about interactive tables.';\n",
              "          element.innerHTML = '';\n",
              "          dataTable['output_type'] = 'display_data';\n",
              "          await google.colab.output.renderOutput(dataTable, element);\n",
              "          const docLink = document.createElement('div');\n",
              "          docLink.innerHTML = docLinkHtml;\n",
              "          element.appendChild(docLink);\n",
              "        }\n",
              "      </script>\n",
              "    </div>\n",
              "  </div>\n",
              "  "
            ]
          },
          "metadata": {},
          "execution_count": 15
        }
      ],
      "source": [
        "df[['Request id', 'Request timestamp', 'Drop timestamp']].head()"
      ]
    },
    {
      "cell_type": "code",
      "execution_count": null,
      "metadata": {
        "colab": {
          "base_uri": "https://localhost:8080/"
        },
        "id": "tobd4sE1fJGw",
        "outputId": "ee95d65b-6cab-4137-dd6c-23d3b3dc8181"
      },
      "outputs": [
        {
          "output_type": "execute_result",
          "data": {
            "text/plain": [
              "Timestamp('2016-12-07 23:54:00')"
            ]
          },
          "metadata": {},
          "execution_count": 16
        }
      ],
      "source": [
        "df['Request timestamp'].max()"
      ]
    },
    {
      "cell_type": "markdown",
      "metadata": {
        "id": "3lV7sGqhy-1e"
      },
      "source": [
        "#Data Featuring"
      ]
    },
    {
      "cell_type": "markdown",
      "metadata": {
        "id": "I6TNs4yPzQut"
      },
      "source": [
        "Extracting hours from Request Timestamp and Drop Timestamp thereby adding new columns of Request Hours and Drop Hours\n",
        "\n"
      ]
    },
    {
      "cell_type": "code",
      "execution_count": null,
      "metadata": {
        "id": "5ON6OGHSynTE"
      },
      "outputs": [],
      "source": [
        "df['Request Hours'] = df['Request timestamp'].apply(lambda x:x.hour)\n",
        "df['Drop Hours'] = df['Drop timestamp'].apply(lambda x:x.hour)"
      ]
    },
    {
      "cell_type": "code",
      "execution_count": null,
      "metadata": {
        "colab": {
          "base_uri": "https://localhost:8080/",
          "height": 206
        },
        "id": "cv6jmLwn0yin",
        "outputId": "618b6478-7b69-4344-c0be-7609f8236606"
      },
      "outputs": [
        {
          "output_type": "execute_result",
          "data": {
            "text/plain": [
              "   Request id   Request timestamp      Drop timestamp  Request Hours  \\\n",
              "0         619 2016-11-07 11:51:00 2016-11-07 13:00:00             11   \n",
              "1         867 2016-11-07 17:57:00 2016-11-07 18:47:00             17   \n",
              "2        1807 2016-12-07 09:17:00 2016-12-07 09:58:00              9   \n",
              "3        2532 2016-12-07 21:08:00 2016-12-07 22:03:00             21   \n",
              "4        3112 2016-07-13 08:33:16 2016-07-13 09:25:47              8   \n",
              "\n",
              "   Drop Hours  \n",
              "0        13.0  \n",
              "1        18.0  \n",
              "2         9.0  \n",
              "3        22.0  \n",
              "4         9.0  "
            ],
            "text/html": [
              "\n",
              "  <div id=\"df-c6e8d6f8-eed5-4b4e-965a-816606061129\">\n",
              "    <div class=\"colab-df-container\">\n",
              "      <div>\n",
              "<style scoped>\n",
              "    .dataframe tbody tr th:only-of-type {\n",
              "        vertical-align: middle;\n",
              "    }\n",
              "\n",
              "    .dataframe tbody tr th {\n",
              "        vertical-align: top;\n",
              "    }\n",
              "\n",
              "    .dataframe thead th {\n",
              "        text-align: right;\n",
              "    }\n",
              "</style>\n",
              "<table border=\"1\" class=\"dataframe\">\n",
              "  <thead>\n",
              "    <tr style=\"text-align: right;\">\n",
              "      <th></th>\n",
              "      <th>Request id</th>\n",
              "      <th>Request timestamp</th>\n",
              "      <th>Drop timestamp</th>\n",
              "      <th>Request Hours</th>\n",
              "      <th>Drop Hours</th>\n",
              "    </tr>\n",
              "  </thead>\n",
              "  <tbody>\n",
              "    <tr>\n",
              "      <th>0</th>\n",
              "      <td>619</td>\n",
              "      <td>2016-11-07 11:51:00</td>\n",
              "      <td>2016-11-07 13:00:00</td>\n",
              "      <td>11</td>\n",
              "      <td>13.0</td>\n",
              "    </tr>\n",
              "    <tr>\n",
              "      <th>1</th>\n",
              "      <td>867</td>\n",
              "      <td>2016-11-07 17:57:00</td>\n",
              "      <td>2016-11-07 18:47:00</td>\n",
              "      <td>17</td>\n",
              "      <td>18.0</td>\n",
              "    </tr>\n",
              "    <tr>\n",
              "      <th>2</th>\n",
              "      <td>1807</td>\n",
              "      <td>2016-12-07 09:17:00</td>\n",
              "      <td>2016-12-07 09:58:00</td>\n",
              "      <td>9</td>\n",
              "      <td>9.0</td>\n",
              "    </tr>\n",
              "    <tr>\n",
              "      <th>3</th>\n",
              "      <td>2532</td>\n",
              "      <td>2016-12-07 21:08:00</td>\n",
              "      <td>2016-12-07 22:03:00</td>\n",
              "      <td>21</td>\n",
              "      <td>22.0</td>\n",
              "    </tr>\n",
              "    <tr>\n",
              "      <th>4</th>\n",
              "      <td>3112</td>\n",
              "      <td>2016-07-13 08:33:16</td>\n",
              "      <td>2016-07-13 09:25:47</td>\n",
              "      <td>8</td>\n",
              "      <td>9.0</td>\n",
              "    </tr>\n",
              "  </tbody>\n",
              "</table>\n",
              "</div>\n",
              "      <button class=\"colab-df-convert\" onclick=\"convertToInteractive('df-c6e8d6f8-eed5-4b4e-965a-816606061129')\"\n",
              "              title=\"Convert this dataframe to an interactive table.\"\n",
              "              style=\"display:none;\">\n",
              "        \n",
              "  <svg xmlns=\"http://www.w3.org/2000/svg\" height=\"24px\"viewBox=\"0 0 24 24\"\n",
              "       width=\"24px\">\n",
              "    <path d=\"M0 0h24v24H0V0z\" fill=\"none\"/>\n",
              "    <path d=\"M18.56 5.44l.94 2.06.94-2.06 2.06-.94-2.06-.94-.94-2.06-.94 2.06-2.06.94zm-11 1L8.5 8.5l.94-2.06 2.06-.94-2.06-.94L8.5 2.5l-.94 2.06-2.06.94zm10 10l.94 2.06.94-2.06 2.06-.94-2.06-.94-.94-2.06-.94 2.06-2.06.94z\"/><path d=\"M17.41 7.96l-1.37-1.37c-.4-.4-.92-.59-1.43-.59-.52 0-1.04.2-1.43.59L10.3 9.45l-7.72 7.72c-.78.78-.78 2.05 0 2.83L4 21.41c.39.39.9.59 1.41.59.51 0 1.02-.2 1.41-.59l7.78-7.78 2.81-2.81c.8-.78.8-2.07 0-2.86zM5.41 20L4 18.59l7.72-7.72 1.47 1.35L5.41 20z\"/>\n",
              "  </svg>\n",
              "      </button>\n",
              "      \n",
              "  <style>\n",
              "    .colab-df-container {\n",
              "      display:flex;\n",
              "      flex-wrap:wrap;\n",
              "      gap: 12px;\n",
              "    }\n",
              "\n",
              "    .colab-df-convert {\n",
              "      background-color: #E8F0FE;\n",
              "      border: none;\n",
              "      border-radius: 50%;\n",
              "      cursor: pointer;\n",
              "      display: none;\n",
              "      fill: #1967D2;\n",
              "      height: 32px;\n",
              "      padding: 0 0 0 0;\n",
              "      width: 32px;\n",
              "    }\n",
              "\n",
              "    .colab-df-convert:hover {\n",
              "      background-color: #E2EBFA;\n",
              "      box-shadow: 0px 1px 2px rgba(60, 64, 67, 0.3), 0px 1px 3px 1px rgba(60, 64, 67, 0.15);\n",
              "      fill: #174EA6;\n",
              "    }\n",
              "\n",
              "    [theme=dark] .colab-df-convert {\n",
              "      background-color: #3B4455;\n",
              "      fill: #D2E3FC;\n",
              "    }\n",
              "\n",
              "    [theme=dark] .colab-df-convert:hover {\n",
              "      background-color: #434B5C;\n",
              "      box-shadow: 0px 1px 3px 1px rgba(0, 0, 0, 0.15);\n",
              "      filter: drop-shadow(0px 1px 2px rgba(0, 0, 0, 0.3));\n",
              "      fill: #FFFFFF;\n",
              "    }\n",
              "  </style>\n",
              "\n",
              "      <script>\n",
              "        const buttonEl =\n",
              "          document.querySelector('#df-c6e8d6f8-eed5-4b4e-965a-816606061129 button.colab-df-convert');\n",
              "        buttonEl.style.display =\n",
              "          google.colab.kernel.accessAllowed ? 'block' : 'none';\n",
              "\n",
              "        async function convertToInteractive(key) {\n",
              "          const element = document.querySelector('#df-c6e8d6f8-eed5-4b4e-965a-816606061129');\n",
              "          const dataTable =\n",
              "            await google.colab.kernel.invokeFunction('convertToInteractive',\n",
              "                                                     [key], {});\n",
              "          if (!dataTable) return;\n",
              "\n",
              "          const docLinkHtml = 'Like what you see? Visit the ' +\n",
              "            '<a target=\"_blank\" href=https://colab.research.google.com/notebooks/data_table.ipynb>data table notebook</a>'\n",
              "            + ' to learn more about interactive tables.';\n",
              "          element.innerHTML = '';\n",
              "          dataTable['output_type'] = 'display_data';\n",
              "          await google.colab.output.renderOutput(dataTable, element);\n",
              "          const docLink = document.createElement('div');\n",
              "          docLink.innerHTML = docLinkHtml;\n",
              "          element.appendChild(docLink);\n",
              "        }\n",
              "      </script>\n",
              "    </div>\n",
              "  </div>\n",
              "  "
            ]
          },
          "metadata": {},
          "execution_count": 18
        }
      ],
      "source": [
        "df[['Request id', 'Request timestamp', 'Drop timestamp', 'Request Hours', 'Drop Hours']].head()"
      ]
    },
    {
      "cell_type": "code",
      "execution_count": null,
      "metadata": {
        "id": "WCpm4x1t08CO"
      },
      "outputs": [],
      "source": [
        "#Defining a function which can separate timeslots based on the provided labels\n",
        "def determine_time_slot(x):\n",
        "  if (x>=0 and x<8):\n",
        "    return \"Early Morning Hours\"\n",
        "  elif (x>=8 and x<12):\n",
        "    return \"Peak Morning Hours\"\n",
        "  elif (x>=12 and x<17):\n",
        "    return \"Noon Hours\"\n",
        "  elif (x>=17 and x<21):\n",
        "    return \"Evening Hours\"\n",
        "  elif (x>=21):\n",
        "    return \"Night Hours\""
      ]
    },
    {
      "cell_type": "code",
      "execution_count": null,
      "metadata": {
        "colab": {
          "base_uri": "https://localhost:8080/",
          "height": 206
        },
        "id": "-dzb2Uf72J2A",
        "outputId": "65d424ec-ef82-4217-b342-b99fee84d75d"
      },
      "outputs": [
        {
          "output_type": "execute_result",
          "data": {
            "text/plain": [
              "   Request id Pickup point  Request Hours   Request Time Slot\n",
              "0         619      Airport             11  Peak Morning Hours\n",
              "1         867      Airport             17       Evening Hours\n",
              "2        1807         City              9  Peak Morning Hours\n",
              "3        2532      Airport             21         Night Hours\n",
              "4        3112         City              8  Peak Morning Hours"
            ],
            "text/html": [
              "\n",
              "  <div id=\"df-3f3afcec-d062-4088-85d2-f187ae8fe705\">\n",
              "    <div class=\"colab-df-container\">\n",
              "      <div>\n",
              "<style scoped>\n",
              "    .dataframe tbody tr th:only-of-type {\n",
              "        vertical-align: middle;\n",
              "    }\n",
              "\n",
              "    .dataframe tbody tr th {\n",
              "        vertical-align: top;\n",
              "    }\n",
              "\n",
              "    .dataframe thead th {\n",
              "        text-align: right;\n",
              "    }\n",
              "</style>\n",
              "<table border=\"1\" class=\"dataframe\">\n",
              "  <thead>\n",
              "    <tr style=\"text-align: right;\">\n",
              "      <th></th>\n",
              "      <th>Request id</th>\n",
              "      <th>Pickup point</th>\n",
              "      <th>Request Hours</th>\n",
              "      <th>Request Time Slot</th>\n",
              "    </tr>\n",
              "  </thead>\n",
              "  <tbody>\n",
              "    <tr>\n",
              "      <th>0</th>\n",
              "      <td>619</td>\n",
              "      <td>Airport</td>\n",
              "      <td>11</td>\n",
              "      <td>Peak Morning Hours</td>\n",
              "    </tr>\n",
              "    <tr>\n",
              "      <th>1</th>\n",
              "      <td>867</td>\n",
              "      <td>Airport</td>\n",
              "      <td>17</td>\n",
              "      <td>Evening Hours</td>\n",
              "    </tr>\n",
              "    <tr>\n",
              "      <th>2</th>\n",
              "      <td>1807</td>\n",
              "      <td>City</td>\n",
              "      <td>9</td>\n",
              "      <td>Peak Morning Hours</td>\n",
              "    </tr>\n",
              "    <tr>\n",
              "      <th>3</th>\n",
              "      <td>2532</td>\n",
              "      <td>Airport</td>\n",
              "      <td>21</td>\n",
              "      <td>Night Hours</td>\n",
              "    </tr>\n",
              "    <tr>\n",
              "      <th>4</th>\n",
              "      <td>3112</td>\n",
              "      <td>City</td>\n",
              "      <td>8</td>\n",
              "      <td>Peak Morning Hours</td>\n",
              "    </tr>\n",
              "  </tbody>\n",
              "</table>\n",
              "</div>\n",
              "      <button class=\"colab-df-convert\" onclick=\"convertToInteractive('df-3f3afcec-d062-4088-85d2-f187ae8fe705')\"\n",
              "              title=\"Convert this dataframe to an interactive table.\"\n",
              "              style=\"display:none;\">\n",
              "        \n",
              "  <svg xmlns=\"http://www.w3.org/2000/svg\" height=\"24px\"viewBox=\"0 0 24 24\"\n",
              "       width=\"24px\">\n",
              "    <path d=\"M0 0h24v24H0V0z\" fill=\"none\"/>\n",
              "    <path d=\"M18.56 5.44l.94 2.06.94-2.06 2.06-.94-2.06-.94-.94-2.06-.94 2.06-2.06.94zm-11 1L8.5 8.5l.94-2.06 2.06-.94-2.06-.94L8.5 2.5l-.94 2.06-2.06.94zm10 10l.94 2.06.94-2.06 2.06-.94-2.06-.94-.94-2.06-.94 2.06-2.06.94z\"/><path d=\"M17.41 7.96l-1.37-1.37c-.4-.4-.92-.59-1.43-.59-.52 0-1.04.2-1.43.59L10.3 9.45l-7.72 7.72c-.78.78-.78 2.05 0 2.83L4 21.41c.39.39.9.59 1.41.59.51 0 1.02-.2 1.41-.59l7.78-7.78 2.81-2.81c.8-.78.8-2.07 0-2.86zM5.41 20L4 18.59l7.72-7.72 1.47 1.35L5.41 20z\"/>\n",
              "  </svg>\n",
              "      </button>\n",
              "      \n",
              "  <style>\n",
              "    .colab-df-container {\n",
              "      display:flex;\n",
              "      flex-wrap:wrap;\n",
              "      gap: 12px;\n",
              "    }\n",
              "\n",
              "    .colab-df-convert {\n",
              "      background-color: #E8F0FE;\n",
              "      border: none;\n",
              "      border-radius: 50%;\n",
              "      cursor: pointer;\n",
              "      display: none;\n",
              "      fill: #1967D2;\n",
              "      height: 32px;\n",
              "      padding: 0 0 0 0;\n",
              "      width: 32px;\n",
              "    }\n",
              "\n",
              "    .colab-df-convert:hover {\n",
              "      background-color: #E2EBFA;\n",
              "      box-shadow: 0px 1px 2px rgba(60, 64, 67, 0.3), 0px 1px 3px 1px rgba(60, 64, 67, 0.15);\n",
              "      fill: #174EA6;\n",
              "    }\n",
              "\n",
              "    [theme=dark] .colab-df-convert {\n",
              "      background-color: #3B4455;\n",
              "      fill: #D2E3FC;\n",
              "    }\n",
              "\n",
              "    [theme=dark] .colab-df-convert:hover {\n",
              "      background-color: #434B5C;\n",
              "      box-shadow: 0px 1px 3px 1px rgba(0, 0, 0, 0.15);\n",
              "      filter: drop-shadow(0px 1px 2px rgba(0, 0, 0, 0.3));\n",
              "      fill: #FFFFFF;\n",
              "    }\n",
              "  </style>\n",
              "\n",
              "      <script>\n",
              "        const buttonEl =\n",
              "          document.querySelector('#df-3f3afcec-d062-4088-85d2-f187ae8fe705 button.colab-df-convert');\n",
              "        buttonEl.style.display =\n",
              "          google.colab.kernel.accessAllowed ? 'block' : 'none';\n",
              "\n",
              "        async function convertToInteractive(key) {\n",
              "          const element = document.querySelector('#df-3f3afcec-d062-4088-85d2-f187ae8fe705');\n",
              "          const dataTable =\n",
              "            await google.colab.kernel.invokeFunction('convertToInteractive',\n",
              "                                                     [key], {});\n",
              "          if (!dataTable) return;\n",
              "\n",
              "          const docLinkHtml = 'Like what you see? Visit the ' +\n",
              "            '<a target=\"_blank\" href=https://colab.research.google.com/notebooks/data_table.ipynb>data table notebook</a>'\n",
              "            + ' to learn more about interactive tables.';\n",
              "          element.innerHTML = '';\n",
              "          dataTable['output_type'] = 'display_data';\n",
              "          await google.colab.output.renderOutput(dataTable, element);\n",
              "          const docLink = document.createElement('div');\n",
              "          docLink.innerHTML = docLinkHtml;\n",
              "          element.appendChild(docLink);\n",
              "        }\n",
              "      </script>\n",
              "    </div>\n",
              "  </div>\n",
              "  "
            ]
          },
          "metadata": {},
          "execution_count": 20
        }
      ],
      "source": [
        "df['Request Time Slot'] = df['Request Hours'].apply(determine_time_slot)\n",
        "df[['Request id', 'Pickup point', 'Request Hours', 'Request Time Slot']].head()"
      ]
    },
    {
      "cell_type": "code",
      "execution_count": null,
      "metadata": {
        "id": "U0DJZMk_2m2t",
        "colab": {
          "base_uri": "https://localhost:8080/"
        },
        "outputId": "f35988a0-b81b-4534-d9e2-350cffc3d135"
      },
      "outputs": [
        {
          "output_type": "execute_result",
          "data": {
            "text/plain": [
              "Evening Hours          1893\n",
              "Early Morning Hours    1827\n",
              "Peak Morning Hours     1268\n",
              "Night Hours             947\n",
              "Noon Hours              810\n",
              "Name: Request Time Slot, dtype: int64"
            ]
          },
          "metadata": {},
          "execution_count": 21
        }
      ],
      "source": [
        "df['Request Time Slot'].value_counts()\n",
        "\n",
        "#it can be seen that maximum no. of requests were made in evening hours and early morning hours"
      ]
    },
    {
      "cell_type": "markdown",
      "source": [
        "Visualizations - Plotting and Observations"
      ],
      "metadata": {
        "id": "CqVdOvu7Gh6g"
      }
    },
    {
      "cell_type": "code",
      "source": [
        "#plotting request hours to see the trend of requests during different hours of the day\n",
        "\n",
        "sns.countplot(x='Request Hours', hue='Status', data = df)\n",
        "plt.title('Trend of Request Throughout the Day')\n",
        "plt.ylabel('Count of Requests')"
      ],
      "metadata": {
        "colab": {
          "base_uri": "https://localhost:8080/",
          "height": 313
        },
        "id": "6IDLG6oBFpGG",
        "outputId": "003e2763-8719-470d-ae93-10f53fdc5ce7"
      },
      "execution_count": null,
      "outputs": [
        {
          "output_type": "execute_result",
          "data": {
            "text/plain": [
              "Text(0, 0.5, 'Count of Requests')"
            ]
          },
          "metadata": {},
          "execution_count": 22
        },
        {
          "output_type": "display_data",
          "data": {
            "text/plain": [
              "<Figure size 432x288 with 1 Axes>"
            ],
            "image/png": "[encoded data removed]"
          },
          "metadata": {
            "needs_background": "light"
          }
        }
      ]
    },
    {
      "cell_type": "code",
      "source": [
        "#Plotting Status column for determining frequency of trips with cancelled, no cars available and trip completed status\n",
        "sns.countplot(x=\"Status\", data = df)\n",
        "plt.title('Total Trips for each status')\n",
        "plt.ylabel('Trip Count')"
      ],
      "metadata": {
        "id": "I0ABIzSuHEuG",
        "colab": {
          "base_uri": "https://localhost:8080/",
          "height": 313
        },
        "outputId": "6e6f80d3-a715-4ea0-f865-0fa45ee885d9"
      },
      "execution_count": null,
      "outputs": [
        {
          "output_type": "execute_result",
          "data": {
            "text/plain": [
              "Text(0, 0.5, 'Trip Count')"
            ]
          },
          "metadata": {},
          "execution_count": 23
        },
        {
          "output_type": "display_data",
          "data": {
            "text/plain": [
              "<Figure size 432x288 with 1 Axes>"
            ],
            "image/png": "[encoded data removed]"
          },
          "metadata": {
            "needs_background": "light"
          }
        }
      ]
    },
    {
      "cell_type": "markdown",
      "source": [
        "From the above count plot, it can be concluded that almost an equal number of request ends with the status of either **No Cars Available** or **Trips Completed**."
      ],
      "metadata": {
        "id": "lKZU-IKjeJsb"
      }
    },
    {
      "cell_type": "code",
      "source": [
        "#Determining the most problematic pickup point for all request status.\n",
        "\n",
        "sns.countplot(x='Status', hue='Pickup point', data = df)\n",
        "plt.title('Status vs Airport/City Trips Count')\n",
        "plt.ylabel('Airport/City Trip Count')"
      ],
      "metadata": {
        "colab": {
          "base_uri": "https://localhost:8080/",
          "height": 313
        },
        "id": "9EO3WAA-dr53",
        "outputId": "af5f9165-3cd4-4ae8-c4db-c2c5b800c40e"
      },
      "execution_count": null,
      "outputs": [
        {
          "output_type": "execute_result",
          "data": {
            "text/plain": [
              "Text(0, 0.5, 'Airport/City Trip Count')"
            ]
          },
          "metadata": {},
          "execution_count": 24
        },
        {
          "output_type": "display_data",
          "data": {
            "text/plain": [
              "<Figure size 432x288 with 1 Axes>"
            ],
            "image/png": "[encoded data removed]"
          },
          "metadata": {
            "needs_background": "light"
          }
        }
      ]
    },
    {
      "cell_type": "markdown",
      "source": [
        "Graph Visualisation of 'Airport/City Trips Count':\n",
        "\n",
        "\n",
        "\n",
        "1.   **No Cars Available** - Beyond 1600 no. of trips where pickup point is 'Airpot', uber customers didn't get the car\n",
        "2.   **Trip Completed** - Between 1400-1500 no. of trips completed where pickup point is 'City' and around 1300 trips were completed for airport pickup point\n",
        "3.   **Cancelled** - Between 1000-1050 no. of trips were cancelled as well as where pickup point is city which is little than the trips completed for the same\n",
        "\n"
      ],
      "metadata": {
        "id": "jk4yHuyMjw9e"
      }
    },
    {
      "cell_type": "code",
      "source": [
        "#Determining the timeslot where maximum trips were completed/cancelled/no cars available\n",
        "\n",
        "sns.countplot(y='Request Time Slot', hue='Status', data=df)\n",
        "plt.title('Status Count Slotwise')\n",
        "plt.xlabel('Status Count')"
      ],
      "metadata": {
        "colab": {
          "base_uri": "https://localhost:8080/",
          "height": 313
        },
        "id": "TGUOloS0f57K",
        "outputId": "b930b43c-9e51-45ac-ee1a-a0aa19bfbf21"
      },
      "execution_count": null,
      "outputs": [
        {
          "output_type": "execute_result",
          "data": {
            "text/plain": [
              "Text(0.5, 0, 'Status Count')"
            ]
          },
          "metadata": {},
          "execution_count": 25
        },
        {
          "output_type": "display_data",
          "data": {
            "text/plain": [
              "<Figure size 432x288 with 1 Axes>"
            ],
            "image/png": "[encoded data removed]"
          },
          "metadata": {
            "needs_background": "light"
          }
        }
      ]
    },
    {
      "cell_type": "markdown",
      "source": [
        "Key Points from the above plot :\n",
        "\n",
        "\n",
        "\n",
        "1.   **Evening Hours (5pm-8pm)**: No. of requests beyond 1000 ended with no cars available\n",
        "2.   **Early Morning Hours (1am-7am)**: No. of requests between 500-600 were cancelled and cars were not available. While approx 700-800 trips were completed\n",
        "::\n"
      ],
      "metadata": {
        "id": "oasO1Syfnqre"
      }
    },
    {
      "cell_type": "code",
      "source": [
        "#Analyzing plot for each trip status, creating individual dataframes\n",
        "\n",
        "df_nocars = df[(df['Status'] == 'No Cars Available')]\n",
        "df_tripcompl = df[(df['Status'] == 'Trip Completed')]\n",
        "df_cancelled = df[(df['Status'] == 'Cancelled')]"
      ],
      "metadata": {
        "id": "A4AyW7a_nM5h"
      },
      "execution_count": null,
      "outputs": []
    },
    {
      "cell_type": "code",
      "source": [
        "#NOTE: Airpot and city pickup points counts for all time slots\n",
        "\n",
        "sns.countplot(y='Request Time Slot', hue='Pickup point', data=df_nocars ,order = df_nocars['Request Time Slot'].value_counts().index)\n",
        "plt.title('No Cars Available Airport/City Trips Count Slotwise')\n",
        "plt.xlabel('Airport/City Count')"
      ],
      "metadata": {
        "colab": {
          "base_uri": "https://localhost:8080/",
          "height": 313
        },
        "id": "oocRlH8lpweW",
        "outputId": "caee442f-7e39-48c6-8c07-6bc0476e98ea"
      },
      "execution_count": null,
      "outputs": [
        {
          "output_type": "execute_result",
          "data": {
            "text/plain": [
              "Text(0.5, 0, 'Airport/City Count')"
            ]
          },
          "metadata": {},
          "execution_count": 27
        },
        {
          "output_type": "display_data",
          "data": {
            "text/plain": [
              "<Figure size 432x288 with 1 Axes>"
            ],
            "image/png": "[encoded data removed]"
          },
          "metadata": {
            "needs_background": "light"
          }
        }
      ]
    },
    {
      "cell_type": "markdown",
      "source": [
        "*   For aiport pickups during evening hours(5pm-8pm) maximum request ended up with no cars available (1100-1200)\n",
        "*   For city pickups during early morning hours(1am-7am) maximum request ended up with no cars available(350-400)"
      ],
      "metadata": {
        "id": "g96l7QBfrSUm"
      }
    },
    {
      "cell_type": "code",
      "source": [
        "#Count of airport rides in evening hours where cars were not available\n",
        "df_nocars_airport = df_nocars.loc[(df_nocars['Pickup point'] == 'Airport') & (df_nocars['Request Time Slot'] == 'Evening Hours')]\n",
        "len(df_nocars_airport.index)"
      ],
      "metadata": {
        "colab": {
          "base_uri": "https://localhost:8080/"
        },
        "id": "GunjJoa_qO9v",
        "outputId": "522bc796-8289-4494-abb4-39113c018148"
      },
      "execution_count": null,
      "outputs": [
        {
          "output_type": "execute_result",
          "data": {
            "text/plain": [
              "1067"
            ]
          },
          "metadata": {},
          "execution_count": 28
        }
      ]
    },
    {
      "cell_type": "code",
      "source": [
        "#Count of city rides in early morning hours where cars were not available\n",
        "df_nocars_city = df_nocars.loc[(df_nocars['Pickup point'] == 'City') & (df_nocars['Request Time Slot'] == 'Early Morning Hours')]\n",
        "len(df_nocars_city.index)"
      ],
      "metadata": {
        "colab": {
          "base_uri": "https://localhost:8080/"
        },
        "id": "Q-46aPf7s5a4",
        "outputId": "84041262-ee04-4715-bda8-e22c041d6375"
      },
      "execution_count": null,
      "outputs": [
        {
          "output_type": "execute_result",
          "data": {
            "text/plain": [
              "374"
            ]
          },
          "metadata": {},
          "execution_count": 29
        }
      ]
    },
    {
      "cell_type": "markdown",
      "source": [
        "**Trips Completed**: Airport and City Pickup points counts for all time slots"
      ],
      "metadata": {
        "id": "VnHRvXhmwVo4"
      }
    },
    {
      "cell_type": "code",
      "source": [
        "sns.countplot(y='Request Time Slot', hue='Pickup point', data=df_tripcompl, order=df_tripcompl['Request Time Slot'].value_counts().index)\n",
        "plt.title('Completed Airplot/City Trips Count Slotwise')\n",
        "plt.xlabel('Airport/City Count')"
      ],
      "metadata": {
        "colab": {
          "base_uri": "https://localhost:8080/",
          "height": 313
        },
        "id": "Cj0ffE4ctQ-h",
        "outputId": "3fc50767-5281-4c85-a0bf-8a5e5baf768e"
      },
      "execution_count": null,
      "outputs": [
        {
          "output_type": "execute_result",
          "data": {
            "text/plain": [
              "Text(0.5, 0, 'Airport/City Count')"
            ]
          },
          "metadata": {},
          "execution_count": 30
        },
        {
          "output_type": "display_data",
          "data": {
            "text/plain": [
              "<Figure size 432x288 with 1 Axes>"
            ],
            "image/png": "[encoded data removed]"
          },
          "metadata": {
            "needs_background": "light"
          }
        }
      ]
    },
    {
      "cell_type": "code",
      "source": [
        "#Count of city rides in early morning hours where trips were completed\n",
        "df_tripcompl_city = df_tripcompl.loc[(df_tripcompl['Pickup point'] == 'City') & (df_tripcompl['Request Time Slot'] == 'Early Morning Hours')]\n",
        "len(df_tripcompl_city.index)"
      ],
      "metadata": {
        "colab": {
          "base_uri": "https://localhost:8080/"
        },
        "id": "eR8jZMlQw81g",
        "outputId": "b6b4493e-1949-4c67-88d3-44032ea63622"
      },
      "execution_count": null,
      "outputs": [
        {
          "output_type": "execute_result",
          "data": {
            "text/plain": [
              "396"
            ]
          },
          "metadata": {},
          "execution_count": 31
        }
      ]
    },
    {
      "cell_type": "code",
      "source": [
        "#Count of airport rides in early morning hours where trips were completed\n",
        "df_tripcompl_airport = df_tripcompl.loc[(df_tripcompl['Pickup point'] == 'Airport') & (df_tripcompl['Request Time Slot'] == 'Early Morning Hours')]\n",
        "len(df_tripcompl_airport.index)"
      ],
      "metadata": {
        "colab": {
          "base_uri": "https://localhost:8080/"
        },
        "id": "R8oBpovdxniv",
        "outputId": "89d467fe-0332-4937-a968-05abd4178d8f"
      },
      "execution_count": null,
      "outputs": [
        {
          "output_type": "execute_result",
          "data": {
            "text/plain": [
              "344"
            ]
          },
          "metadata": {},
          "execution_count": 32
        }
      ]
    },
    {
      "cell_type": "markdown",
      "source": [
        "**Cancelled**: Airport and City Pickup points counts for all time slots"
      ],
      "metadata": {
        "id": "mJzR1rETx9WP"
      }
    },
    {
      "cell_type": "code",
      "source": [
        "sns.countplot(y='Request Time Slot', hue='Pickup point', data=df_cancelled, order=df_cancelled['Request Time Slot'].value_counts().index)\n",
        "plt.title('Cancelled Airport/City Trips Count Slotwise')\n",
        "plt.xlabel('Airport/City Count')"
      ],
      "metadata": {
        "colab": {
          "base_uri": "https://localhost:8080/",
          "height": 313
        },
        "id": "-hop0Nokx2gt",
        "outputId": "8c92cc89-68ff-4bad-d929-caf056691dba"
      },
      "execution_count": null,
      "outputs": [
        {
          "output_type": "execute_result",
          "data": {
            "text/plain": [
              "Text(0.5, 0, 'Airport/City Count')"
            ]
          },
          "metadata": {},
          "execution_count": 33
        },
        {
          "output_type": "display_data",
          "data": {
            "text/plain": [
              "<Figure size 432x288 with 1 Axes>"
            ],
            "image/png": "[encoded data removed]"
          },
          "metadata": {
            "needs_background": "light"
          }
        }
      ]
    },
    {
      "cell_type": "markdown",
      "source": [
        "\n",
        "\n",
        "1.   For City pickups, maximum trips were cancelled in early morning hours\n",
        "2.   For Airport pickups, maximum trips were cancelled in evening hours\n",
        "\n"
      ],
      "metadata": {
        "id": "Dx_2zC4-zr3F"
      }
    },
    {
      "cell_type": "code",
      "source": [
        "#Count of City rides in early morning hours where requests were cancelled by drivers\n",
        "df_cancelled_city = df_cancelled.loc[(df_cancelled['Pickup point'] == 'City') & (df_cancelled['Request Time Slot'] == 'Early Morning Hours')]\n",
        "len(df_cancelled_city.index)"
      ],
      "metadata": {
        "colab": {
          "base_uri": "https://localhost:8080/"
        },
        "id": "uPwb9n7PyqAj",
        "outputId": "a175f51d-264d-4a43-d7a0-94faa1c5a951"
      },
      "execution_count": null,
      "outputs": [
        {
          "output_type": "execute_result",
          "data": {
            "text/plain": [
              "540"
            ]
          },
          "metadata": {},
          "execution_count": 34
        }
      ]
    },
    {
      "cell_type": "code",
      "source": [
        "#Count of Airport rides in evening hours where requests were cancelled by drivers\n",
        "df_cancelled_airport = df_cancelled.loc[(df_cancelled['Pickup point'] == 'Airport') & (df_cancelled['Request Time Slot'] == 'Evening Hours')]\n",
        "len(df_cancelled_airport.index)"
      ],
      "metadata": {
        "colab": {
          "base_uri": "https://localhost:8080/"
        },
        "id": "TK1ZbkFCHz9C",
        "outputId": "850f29d6-fe24-459f-953b-83bc51c0c568"
      },
      "execution_count": null,
      "outputs": [
        {
          "output_type": "execute_result",
          "data": {
            "text/plain": [
              "78"
            ]
          },
          "metadata": {},
          "execution_count": 35
        }
      ]
    },
    {
      "cell_type": "code",
      "source": [
        "#Total Requests for Each Trip Status\n",
        "print('Total requests where cars were not available : ' + str(len(df_nocars.index)))\n",
        "print('Total requests which were cancelled : ' + str(len(df_cancelled.index)))\n",
        "print('Total requests which were completed : ' + str(len(df_tripcompl.index)))"
      ],
      "metadata": {
        "colab": {
          "base_uri": "https://localhost:8080/"
        },
        "id": "FEInmFTjIQzx",
        "outputId": "ba87caae-cc7a-4555-841a-335fe2070be5"
      },
      "execution_count": null,
      "outputs": [
        {
          "output_type": "stream",
          "name": "stdout",
          "text": [
            "Total requests where cars were not available : 2650\n",
            "Total requests which were cancelled : 1264\n",
            "Total requests which were completed : 2831\n"
          ]
        }
      ]
    },
    {
      "cell_type": "markdown",
      "source": [
        "Calculating Demand Supply Metrics\n",
        "\n",
        "\n",
        "*  **Total Demand :** Total Trips made by all three status\n",
        "*   **Total Supply :** Total Number of Trips completed\n",
        "*   **Gap :** Difference between total demand and supply"
      ],
      "metadata": {
        "id": "sfnZynFTJ9jK"
      }
    },
    {
      "cell_type": "code",
      "source": [
        "demand = len(df_nocars.index) + len(df_cancelled.index) + len(df_tripcompl.index)\n",
        "print('Total Demand : ' + str(demand))"
      ],
      "metadata": {
        "colab": {
          "base_uri": "https://localhost:8080/"
        },
        "id": "WZ67N22BJydu",
        "outputId": "cc04c5b5-5c42-49c8-bf4e-4ce72962c5e6"
      },
      "execution_count": null,
      "outputs": [
        {
          "output_type": "stream",
          "name": "stdout",
          "text": [
            "Total Demand : 6745\n"
          ]
        }
      ]
    },
    {
      "cell_type": "code",
      "source": [
        "supply = len(df_tripcompl.index)\n",
        "print('Total Supply : ' + str(supply))"
      ],
      "metadata": {
        "colab": {
          "base_uri": "https://localhost:8080/"
        },
        "id": "vmiQ3BZ-0Fxx",
        "outputId": "576a776e-387c-4323-b556-c200cdde2557"
      },
      "execution_count": null,
      "outputs": [
        {
          "output_type": "stream",
          "name": "stdout",
          "text": [
            "Total Supply : 2831\n"
          ]
        }
      ]
    },
    {
      "cell_type": "code",
      "source": [
        "gap = demand - supply\n",
        "print('Total Gap : ' + str(gap))"
      ],
      "metadata": {
        "colab": {
          "base_uri": "https://localhost:8080/"
        },
        "id": "iH4yW83O2pW5",
        "outputId": "6f53c5b6-e53d-4401-b13c-3a9b37200fdc"
      },
      "execution_count": null,
      "outputs": [
        {
          "output_type": "stream",
          "name": "stdout",
          "text": [
            "Total Gap : 3914\n"
          ]
        }
      ]
    },
    {
      "cell_type": "code",
      "source": [
        "#Plotting number of requests for each request time slot to see the demand across time slots\n",
        "sns.countplot(y='Request Time Slot', data=df, order=df['Request Time Slot'].value_counts().index)\n",
        "plt.title('Demand Count for Each Request Time Slot')\n",
        "plt.xlabel('Demand Count')"
      ],
      "metadata": {
        "colab": {
          "base_uri": "https://localhost:8080/",
          "height": 313
        },
        "id": "0_6mXmmA23Ou",
        "outputId": "5d74aefc-a6b1-4c2c-ce18-9be5ed698c91"
      },
      "execution_count": null,
      "outputs": [
        {
          "output_type": "execute_result",
          "data": {
            "text/plain": [
              "Text(0.5, 0, 'Demand Count')"
            ]
          },
          "metadata": {},
          "execution_count": 40
        },
        {
          "output_type": "display_data",
          "data": {
            "text/plain": [
              "<Figure size 432x288 with 1 Axes>"
            ],
            "image/png": "[encoded data removed]"
          },
          "metadata": {
            "needs_background": "light"
          }
        }
      ]
    },
    {
      "cell_type": "markdown",
      "source": [
        "Demand for all time slots.\n",
        "\n",
        "\n",
        "*   0-8 (Early Morning Hours) : beyond 1800\n",
        "*   8-12 (Peak Morning Hours) : approx 1250-1300\n",
        "*   12-17 (Noon Hours) : approx 750-850\n",
        "*   17-21 (Evening Hours) : approx 1800-2000\n",
        "*   21-23 (Night Hours) : approx 700-750\n",
        "\n",
        "\n",
        "\n",
        "\n",
        "\n"
      ],
      "metadata": {
        "id": "KvKwfZGb5lBT"
      }
    },
    {
      "cell_type": "code",
      "source": [
        "len(df.loc[(df['Request Time Slot'] == 'Evening Hours')].index)"
      ],
      "metadata": {
        "colab": {
          "base_uri": "https://localhost:8080/"
        },
        "id": "FJy6ROur4ZAz",
        "outputId": "2fc08e69-4525-44f9-a268-558f82895200"
      },
      "execution_count": null,
      "outputs": [
        {
          "output_type": "execute_result",
          "data": {
            "text/plain": [
              "1893"
            ]
          },
          "metadata": {},
          "execution_count": 41
        }
      ]
    },
    {
      "cell_type": "markdown",
      "source": [
        "Thus, it can be concluded that maximum demand is during evening hours between 5PM-8PM"
      ],
      "metadata": {
        "id": "kDneguJL-PK6"
      }
    },
    {
      "cell_type": "code",
      "source": [
        "#Plotting no. of requests for each time slot only when trip was completed\n",
        "\n",
        "sns.countplot(y='Request Time Slot', data=df_tripcompl, order=df_tripcompl['Request Time Slot'].value_counts().index)\n",
        "plt.title('Supply Count for Each Request Time Slot')\n",
        "plt.xlabel('Supply Count')"
      ],
      "metadata": {
        "colab": {
          "base_uri": "https://localhost:8080/",
          "height": 313
        },
        "id": "bg_X0Z8C-K8y",
        "outputId": "4ce577ad-8e58-470d-c480-829cc93be96f"
      },
      "execution_count": null,
      "outputs": [
        {
          "output_type": "execute_result",
          "data": {
            "text/plain": [
              "Text(0.5, 0, 'Supply Count')"
            ]
          },
          "metadata": {},
          "execution_count": 42
        },
        {
          "output_type": "display_data",
          "data": {
            "text/plain": [
              "<Figure size 432x288 with 1 Axes>"
            ],
            "image/png": "[encoded data removed]"
          },
          "metadata": {
            "needs_background": "light"
          }
        }
      ]
    },
    {
      "cell_type": "markdown",
      "source": [
        "Supply for all request time slots.\n",
        "\n",
        "\n",
        "*   0-8 (Early Morning Hours) : approx 700-750\n",
        "*   8-12 (Peak Morning Hours) : approx 500-550\n",
        "*   12-17 (Noon Hours) : approx 450-500\n",
        "*   17-21 (Evening Hours) : approx 600-650\n",
        "*   21-23 (Night Hours) : approx 250-300"
      ],
      "metadata": {
        "id": "3bIATupK-5fP"
      }
    },
    {
      "cell_type": "code",
      "source": [
        "len(df_tripcompl.loc[(df_tripcompl['Request Time Slot'] == 'Early Morning Hours')].index)"
      ],
      "metadata": {
        "colab": {
          "base_uri": "https://localhost:8080/"
        },
        "id": "OuF9NHp0-zm2",
        "outputId": "f5cf273e-5496-43cd-b179-1dce17e63f94"
      },
      "execution_count": null,
      "outputs": [
        {
          "output_type": "execute_result",
          "data": {
            "text/plain": [
              "740"
            ]
          },
          "metadata": {},
          "execution_count": 43
        }
      ]
    },
    {
      "cell_type": "markdown",
      "source": [
        "Thus, it is seen that maximum supply is in early morning hours"
      ],
      "metadata": {
        "id": "LOmgpdSm_uGn"
      }
    },
    {
      "cell_type": "markdown",
      "source": [
        "**Thereby, it can finally be concluded that there is an imbalance between demand & supply. Now, demand-supply metrics is calculated for both airport & city for all request time slot.**"
      ],
      "metadata": {
        "id": "YACL4tEf_4Bf"
      }
    },
    {
      "cell_type": "code",
      "source": [
        "#Creating two separate for airport & city rides\n",
        "\n",
        "df_airport_request = df.loc[df['Pickup point'] == 'Airport']\n",
        "df_city_request = df.loc[df['Pickup point'] == 'City']"
      ],
      "metadata": {
        "id": "VVQ49oPA_rF9"
      },
      "execution_count": null,
      "outputs": []
    },
    {
      "cell_type": "code",
      "source": [
        "def calculateDemandSupply(df, timeslot):\n",
        "  demand = df[(df['Request Time Slot'] == timeslot)]['Request id'].count()\n",
        "  supply = df[(df['Request Time Slot'] == timeslot) & (df['Status'] == 'Trip Completed')]['Request id'].count()\n",
        "  gap = demand-supply\n",
        "\n",
        "  return demand, supply, gap"
      ],
      "metadata": {
        "id": "J3QPozzPAy4j"
      },
      "execution_count": null,
      "outputs": []
    },
    {
      "cell_type": "code",
      "source": [
        "#Demand-supply metrics for Airport Rides for all time slots\n",
        "\n",
        "demand_earlymorning_a, supply_earlymorning_a, gap_earlymorning_a = calculateDemandSupply(df_airport_request, 'Early Morning Hours')\n",
        "demand_peakmorning_a, supply_peakmorning_a, gap_peakmorning_a = calculateDemandSupply(df_airport_request, 'Peak Morning Hours')\n",
        "demand_noon_a, supply_noon_a, gap_noon_a = calculateDemandSupply(df_airport_request, 'Noon Hours')\n",
        "demand_evening_a, supply_evening_a, gap_evening_a = calculateDemandSupply(df_airport_request, 'Evening Hours')\n",
        "demand_night_a, supply_night_a, gap_night_a = calculateDemandSupply(df_airport_request, 'Night Hours')"
      ],
      "metadata": {
        "id": "ALwIoDTQeTuX"
      },
      "execution_count": null,
      "outputs": []
    },
    {
      "cell_type": "code",
      "source": [
        "#Demand-supply metrics for City Rides for all time slots\n",
        "\n",
        "demand_earlymorning_c, supply_earlymorning_c, gap_earlymorning_c = calculateDemandSupply(df_city_request, 'Early Morning Hours')\n",
        "demand_peakmorning_c, supply_peakmorning_c, gap_peakmorning_c = calculateDemandSupply(df_city_request, 'Peak Morning Hours')\n",
        "demand_noon_c, supply_noon_c, gap_noon_c = calculateDemandSupply(df_city_request, 'Noon Hours')\n",
        "demand_evening_c, supply_evening_c, gap_evening_c = calculateDemandSupply(df_city_request, 'Evening Hours')\n",
        "demand_night_c, supply_night_c, gap_night_c = calculateDemandSupply(df_city_request, 'Night Hours')"
      ],
      "metadata": {
        "id": "wEF_uGPQfnX7"
      },
      "execution_count": null,
      "outputs": []
    },
    {
      "cell_type": "code",
      "source": [
        "#Calculating total demand and supply for all time slots\n",
        "\n",
        "#Total Demand :\n",
        "demand_earlymorning = demand_earlymorning_a + demand_earlymorning_c\n",
        "demand_peakmorning = demand_peakmorning_a + demand_peakmorning_c\n",
        "demand_noon = demand_noon_a + demand_noon_c\n",
        "demand_evening = demand_evening_a + demand_evening_c\n",
        "demand_night = demand_night_a + demand_night_c\n",
        "\n",
        "#Total Supply :\n",
        "supply_earlymorning = supply_earlymorning_a + supply_earlymorning_c\n",
        "supply_peakmorning = supply_peakmorning_a + supply_peakmorning_c\n",
        "supply_noon = supply_noon_a + supply_noon_c\n",
        "supply_evening = supply_evening_a + supply_evening_c\n",
        "supply_night = supply_night_a + supply_night_c\n",
        "\n",
        "#Total Gap :\n",
        "gap_earlymorning = gap_earlymorning_a + gap_earlymorning_c\n",
        "gap_peakmorning = gap_peakmorning_a + gap_peakmorning_c\n",
        "gap_noon = gap_noon_a + gap_noon_c\n",
        "gap_evening = gap_evening_a + gap_evening_c\n",
        "gap_night = gap_night_a + gap_night_c"
      ],
      "metadata": {
        "id": "6ejyzIishPcg"
      },
      "execution_count": null,
      "outputs": []
    },
    {
      "cell_type": "markdown",
      "source": [
        "**Plotting Count of Trip for all request time slots corresponding to Airport and City Pickup Points.**"
      ],
      "metadata": {
        "id": "O6mm8y0hipKv"
      }
    },
    {
      "cell_type": "code",
      "source": [
        "df.groupby(['Request Time Slot', 'Pickup point']).size().unstack().plot(kind='bar', stacked=False)\n",
        "plt.title('Airport/City Request Count for Time Slots')\n",
        "plt.ylabel('Airport/City Request Count')"
      ],
      "metadata": {
        "colab": {
          "base_uri": "https://localhost:8080/",
          "height": 405
        },
        "id": "um6jThwDh9Sl",
        "outputId": "0f11edd3-e552-4ada-8406-2d370a0549d6"
      },
      "execution_count": null,
      "outputs": [
        {
          "output_type": "execute_result",
          "data": {
            "text/plain": [
              "Text(0, 0.5, 'Airport/City Request Count')"
            ]
          },
          "metadata": {},
          "execution_count": 49
        },
        {
          "output_type": "display_data",
          "data": {
            "text/plain": [
              "<Figure size 432x288 with 1 Axes>"
            ],
            "image/png": "[encoded data removed]"
          },
          "metadata": {
            "needs_background": "light"
          }
        }
      ]
    },
    {
      "cell_type": "markdown",
      "source": [
        "**Conclusions:**\n",
        "\n",
        "1.   Maximum trip requests for airport were made in evening hours\n",
        "2.   Maximum trip requests for city were made in early morning hours\n",
        "\n"
      ],
      "metadata": {
        "id": "5geDUU3hWyo9"
      }
    },
    {
      "cell_type": "code",
      "source": [
        "gap_data = {\n",
        "    'Request Time Slot' : ['Early Morning', 'Peak Morning', 'Noon', 'Evening', 'Night'],\n",
        "    'Total Demand' : [demand_earlymorning, demand_peakmorning, demand_noon, demand_evening, demand_night],\n",
        "    'Total Supply' : [supply_earlymorning, supply_peakmorning, supply_noon, supply_evening, supply_night],\n",
        "    'Total Gap' : [gap_earlymorning, gap_peakmorning, gap_noon, gap_evening, gap_night],\n",
        "    'Demand_From_Airport' : [demand_earlymorning_a, demand_peakmorning_a, demand_noon_a, demand_evening_a, demand_night_a],\n",
        "    'Supply_To_Airport' : [supply_earlymorning_a, supply_peakmorning_a, supply_noon_a, supply_evening_a, supply_night_a],\n",
        "    'Gap_From_Airport' : [gap_earlymorning_a, gap_peakmorning_a, gap_noon_a, gap_evening_a, gap_night_a],\n",
        "    'Demand_From_City' : [demand_earlymorning_c, demand_peakmorning_c, demand_noon_c, demand_evening_c, demand_night_c],\n",
        "    'Supply_To_City' : [supply_earlymorning_c, supply_peakmorning_c, supply_noon_c, supply_evening_c, supply_night_c],\n",
        "    'Gap_From_City' : [gap_earlymorning_c, gap_peakmorning_c, gap_noon_c, gap_evening_c, gap_night_c]\n",
        "}"
      ],
      "metadata": {
        "id": "DsGZ_yKOjbRF"
      },
      "execution_count": null,
      "outputs": []
    },
    {
      "cell_type": "code",
      "source": [
        "gap_df = pd.DataFrame(data=gap_data)"
      ],
      "metadata": {
        "id": "DNC4NzTGgdAf"
      },
      "execution_count": null,
      "outputs": []
    },
    {
      "cell_type": "code",
      "source": [
        "gap_df"
      ],
      "metadata": {
        "colab": {
          "base_uri": "https://localhost:8080/",
          "height": 320
        },
        "id": "YFx2-GefhFEa",
        "outputId": "7df490ba-03c9-4c55-a532-1239c9aa6484"
      },
      "execution_count": null,
      "outputs": [
        {
          "output_type": "execute_result",
          "data": {
            "text/plain": [
              "  Request Time Slot  Total Demand  Total Supply  Total Gap  \\\n",
              "0     Early Morning          1827           740       1087   \n",
              "1      Peak Morning          1268           559        709   \n",
              "2              Noon           810           491        319   \n",
              "3           Evening          1893           642       1251   \n",
              "4             Night           947           399        548   \n",
              "\n",
              "   Demand_From_Airport  Supply_To_Airport  Gap_From_Airport  Demand_From_City  \\\n",
              "0                  517                344               173              1310   \n",
              "1                  301                243                58               967   \n",
              "2                  339                225               114               471   \n",
              "3                 1457                312              1145               436   \n",
              "4                  624                203               421               323   \n",
              "\n",
              "   Supply_To_City  Gap_From_City  \n",
              "0             396            914  \n",
              "1             316            651  \n",
              "2             266            205  \n",
              "3             330            106  \n",
              "4             196            127  "
            ],
            "text/html": [
              "\n",
              "  <div id=\"df-5c3ac4df-e029-4586-9e36-c47cac7a94c3\">\n",
              "    <div class=\"colab-df-container\">\n",
              "      <div>\n",
              "<style scoped>\n",
              "    .dataframe tbody tr th:only-of-type {\n",
              "        vertical-align: middle;\n",
              "    }\n",
              "\n",
              "    .dataframe tbody tr th {\n",
              "        vertical-align: top;\n",
              "    }\n",
              "\n",
              "    .dataframe thead th {\n",
              "        text-align: right;\n",
              "    }\n",
              "</style>\n",
              "<table border=\"1\" class=\"dataframe\">\n",
              "  <thead>\n",
              "    <tr style=\"text-align: right;\">\n",
              "      <th></th>\n",
              "      <th>Request Time Slot</th>\n",
              "      <th>Total Demand</th>\n",
              "      <th>Total Supply</th>\n",
              "      <th>Total Gap</th>\n",
              "      <th>Demand_From_Airport</th>\n",
              "      <th>Supply_To_Airport</th>\n",
              "      <th>Gap_From_Airport</th>\n",
              "      <th>Demand_From_City</th>\n",
              "      <th>Supply_To_City</th>\n",
              "      <th>Gap_From_City</th>\n",
              "    </tr>\n",
              "  </thead>\n",
              "  <tbody>\n",
              "    <tr>\n",
              "      <th>0</th>\n",
              "      <td>Early Morning</td>\n",
              "      <td>1827</td>\n",
              "      <td>740</td>\n",
              "      <td>1087</td>\n",
              "      <td>517</td>\n",
              "      <td>344</td>\n",
              "      <td>173</td>\n",
              "      <td>1310</td>\n",
              "      <td>396</td>\n",
              "      <td>914</td>\n",
              "    </tr>\n",
              "    <tr>\n",
              "      <th>1</th>\n",
              "      <td>Peak Morning</td>\n",
              "      <td>1268</td>\n",
              "      <td>559</td>\n",
              "      <td>709</td>\n",
              "      <td>301</td>\n",
              "      <td>243</td>\n",
              "      <td>58</td>\n",
              "      <td>967</td>\n",
              "      <td>316</td>\n",
              "      <td>651</td>\n",
              "    </tr>\n",
              "    <tr>\n",
              "      <th>2</th>\n",
              "      <td>Noon</td>\n",
              "      <td>810</td>\n",
              "      <td>491</td>\n",
              "      <td>319</td>\n",
              "      <td>339</td>\n",
              "      <td>225</td>\n",
              "      <td>114</td>\n",
              "      <td>471</td>\n",
              "      <td>266</td>\n",
              "      <td>205</td>\n",
              "    </tr>\n",
              "    <tr>\n",
              "      <th>3</th>\n",
              "      <td>Evening</td>\n",
              "      <td>1893</td>\n",
              "      <td>642</td>\n",
              "      <td>1251</td>\n",
              "      <td>1457</td>\n",
              "      <td>312</td>\n",
              "      <td>1145</td>\n",
              "      <td>436</td>\n",
              "      <td>330</td>\n",
              "      <td>106</td>\n",
              "    </tr>\n",
              "    <tr>\n",
              "      <th>4</th>\n",
              "      <td>Night</td>\n",
              "      <td>947</td>\n",
              "      <td>399</td>\n",
              "      <td>548</td>\n",
              "      <td>624</td>\n",
              "      <td>203</td>\n",
              "      <td>421</td>\n",
              "      <td>323</td>\n",
              "      <td>196</td>\n",
              "      <td>127</td>\n",
              "    </tr>\n",
              "  </tbody>\n",
              "</table>\n",
              "</div>\n",
              "      <button class=\"colab-df-convert\" onclick=\"convertToInteractive('df-5c3ac4df-e029-4586-9e36-c47cac7a94c3')\"\n",
              "              title=\"Convert this dataframe to an interactive table.\"\n",
              "              style=\"display:none;\">\n",
              "        \n",
              "  <svg xmlns=\"http://www.w3.org/2000/svg\" height=\"24px\"viewBox=\"0 0 24 24\"\n",
              "       width=\"24px\">\n",
              "    <path d=\"M0 0h24v24H0V0z\" fill=\"none\"/>\n",
              "    <path d=\"M18.56 5.44l.94 2.06.94-2.06 2.06-.94-2.06-.94-.94-2.06-.94 2.06-2.06.94zm-11 1L8.5 8.5l.94-2.06 2.06-.94-2.06-.94L8.5 2.5l-.94 2.06-2.06.94zm10 10l.94 2.06.94-2.06 2.06-.94-2.06-.94-.94-2.06-.94 2.06-2.06.94z\"/><path d=\"M17.41 7.96l-1.37-1.37c-.4-.4-.92-.59-1.43-.59-.52 0-1.04.2-1.43.59L10.3 9.45l-7.72 7.72c-.78.78-.78 2.05 0 2.83L4 21.41c.39.39.9.59 1.41.59.51 0 1.02-.2 1.41-.59l7.78-7.78 2.81-2.81c.8-.78.8-2.07 0-2.86zM5.41 20L4 18.59l7.72-7.72 1.47 1.35L5.41 20z\"/>\n",
              "  </svg>\n",
              "      </button>\n",
              "      \n",
              "  <style>\n",
              "    .colab-df-container {\n",
              "      display:flex;\n",
              "      flex-wrap:wrap;\n",
              "      gap: 12px;\n",
              "    }\n",
              "\n",
              "    .colab-df-convert {\n",
              "      background-color: #E8F0FE;\n",
              "      border: none;\n",
              "      border-radius: 50%;\n",
              "      cursor: pointer;\n",
              "      display: none;\n",
              "      fill: #1967D2;\n",
              "      height: 32px;\n",
              "      padding: 0 0 0 0;\n",
              "      width: 32px;\n",
              "    }\n",
              "\n",
              "    .colab-df-convert:hover {\n",
              "      background-color: #E2EBFA;\n",
              "      box-shadow: 0px 1px 2px rgba(60, 64, 67, 0.3), 0px 1px 3px 1px rgba(60, 64, 67, 0.15);\n",
              "      fill: #174EA6;\n",
              "    }\n",
              "\n",
              "    [theme=dark] .colab-df-convert {\n",
              "      background-color: #3B4455;\n",
              "      fill: #D2E3FC;\n",
              "    }\n",
              "\n",
              "    [theme=dark] .colab-df-convert:hover {\n",
              "      background-color: #434B5C;\n",
              "      box-shadow: 0px 1px 3px 1px rgba(0, 0, 0, 0.15);\n",
              "      filter: drop-shadow(0px 1px 2px rgba(0, 0, 0, 0.3));\n",
              "      fill: #FFFFFF;\n",
              "    }\n",
              "  </style>\n",
              "\n",
              "      <script>\n",
              "        const buttonEl =\n",
              "          document.querySelector('#df-5c3ac4df-e029-4586-9e36-c47cac7a94c3 button.colab-df-convert');\n",
              "        buttonEl.style.display =\n",
              "          google.colab.kernel.accessAllowed ? 'block' : 'none';\n",
              "\n",
              "        async function convertToInteractive(key) {\n",
              "          const element = document.querySelector('#df-5c3ac4df-e029-4586-9e36-c47cac7a94c3');\n",
              "          const dataTable =\n",
              "            await google.colab.kernel.invokeFunction('convertToInteractive',\n",
              "                                                     [key], {});\n",
              "          if (!dataTable) return;\n",
              "\n",
              "          const docLinkHtml = 'Like what you see? Visit the ' +\n",
              "            '<a target=\"_blank\" href=https://colab.research.google.com/notebooks/data_table.ipynb>data table notebook</a>'\n",
              "            + ' to learn more about interactive tables.';\n",
              "          element.innerHTML = '';\n",
              "          dataTable['output_type'] = 'display_data';\n",
              "          await google.colab.output.renderOutput(dataTable, element);\n",
              "          const docLink = document.createElement('div');\n",
              "          docLink.innerHTML = docLinkHtml;\n",
              "          element.appendChild(docLink);\n",
              "        }\n",
              "      </script>\n",
              "    </div>\n",
              "  </div>\n",
              "  "
            ]
          },
          "metadata": {},
          "execution_count": 52
        }
      ]
    },
    {
      "cell_type": "code",
      "source": [
        "gap_df[['Request Time Slot', 'Total Demand', 'Total Supply', 'Gap_From_City']].sort_values('Gap_From_City', ascending = False)"
      ],
      "metadata": {
        "colab": {
          "base_uri": "https://localhost:8080/",
          "height": 206
        },
        "id": "3mN8-ATihGgg",
        "outputId": "07ab260a-3734-444c-820e-561a97e440e6"
      },
      "execution_count": null,
      "outputs": [
        {
          "output_type": "execute_result",
          "data": {
            "text/plain": [
              "  Request Time Slot  Total Demand  Total Supply  Gap_From_City\n",
              "0     Early Morning          1827           740            914\n",
              "1      Peak Morning          1268           559            651\n",
              "2              Noon           810           491            205\n",
              "4             Night           947           399            127\n",
              "3           Evening          1893           642            106"
            ],
            "text/html": [
              "\n",
              "  <div id=\"df-c506835c-3d89-41ef-bbe1-e0a44f6b3a49\">\n",
              "    <div class=\"colab-df-container\">\n",
              "      <div>\n",
              "<style scoped>\n",
              "    .dataframe tbody tr th:only-of-type {\n",
              "        vertical-align: middle;\n",
              "    }\n",
              "\n",
              "    .dataframe tbody tr th {\n",
              "        vertical-align: top;\n",
              "    }\n",
              "\n",
              "    .dataframe thead th {\n",
              "        text-align: right;\n",
              "    }\n",
              "</style>\n",
              "<table border=\"1\" class=\"dataframe\">\n",
              "  <thead>\n",
              "    <tr style=\"text-align: right;\">\n",
              "      <th></th>\n",
              "      <th>Request Time Slot</th>\n",
              "      <th>Total Demand</th>\n",
              "      <th>Total Supply</th>\n",
              "      <th>Gap_From_City</th>\n",
              "    </tr>\n",
              "  </thead>\n",
              "  <tbody>\n",
              "    <tr>\n",
              "      <th>0</th>\n",
              "      <td>Early Morning</td>\n",
              "      <td>1827</td>\n",
              "      <td>740</td>\n",
              "      <td>914</td>\n",
              "    </tr>\n",
              "    <tr>\n",
              "      <th>1</th>\n",
              "      <td>Peak Morning</td>\n",
              "      <td>1268</td>\n",
              "      <td>559</td>\n",
              "      <td>651</td>\n",
              "    </tr>\n",
              "    <tr>\n",
              "      <th>2</th>\n",
              "      <td>Noon</td>\n",
              "      <td>810</td>\n",
              "      <td>491</td>\n",
              "      <td>205</td>\n",
              "    </tr>\n",
              "    <tr>\n",
              "      <th>4</th>\n",
              "      <td>Night</td>\n",
              "      <td>947</td>\n",
              "      <td>399</td>\n",
              "      <td>127</td>\n",
              "    </tr>\n",
              "    <tr>\n",
              "      <th>3</th>\n",
              "      <td>Evening</td>\n",
              "      <td>1893</td>\n",
              "      <td>642</td>\n",
              "      <td>106</td>\n",
              "    </tr>\n",
              "  </tbody>\n",
              "</table>\n",
              "</div>\n",
              "      <button class=\"colab-df-convert\" onclick=\"convertToInteractive('df-c506835c-3d89-41ef-bbe1-e0a44f6b3a49')\"\n",
              "              title=\"Convert this dataframe to an interactive table.\"\n",
              "              style=\"display:none;\">\n",
              "        \n",
              "  <svg xmlns=\"http://www.w3.org/2000/svg\" height=\"24px\"viewBox=\"0 0 24 24\"\n",
              "       width=\"24px\">\n",
              "    <path d=\"M0 0h24v24H0V0z\" fill=\"none\"/>\n",
              "    <path d=\"M18.56 5.44l.94 2.06.94-2.06 2.06-.94-2.06-.94-.94-2.06-.94 2.06-2.06.94zm-11 1L8.5 8.5l.94-2.06 2.06-.94-2.06-.94L8.5 2.5l-.94 2.06-2.06.94zm10 10l.94 2.06.94-2.06 2.06-.94-2.06-.94-.94-2.06-.94 2.06-2.06.94z\"/><path d=\"M17.41 7.96l-1.37-1.37c-.4-.4-.92-.59-1.43-.59-.52 0-1.04.2-1.43.59L10.3 9.45l-7.72 7.72c-.78.78-.78 2.05 0 2.83L4 21.41c.39.39.9.59 1.41.59.51 0 1.02-.2 1.41-.59l7.78-7.78 2.81-2.81c.8-.78.8-2.07 0-2.86zM5.41 20L4 18.59l7.72-7.72 1.47 1.35L5.41 20z\"/>\n",
              "  </svg>\n",
              "      </button>\n",
              "      \n",
              "  <style>\n",
              "    .colab-df-container {\n",
              "      display:flex;\n",
              "      flex-wrap:wrap;\n",
              "      gap: 12px;\n",
              "    }\n",
              "\n",
              "    .colab-df-convert {\n",
              "      background-color: #E8F0FE;\n",
              "      border: none;\n",
              "      border-radius: 50%;\n",
              "      cursor: pointer;\n",
              "      display: none;\n",
              "      fill: #1967D2;\n",
              "      height: 32px;\n",
              "      padding: 0 0 0 0;\n",
              "      width: 32px;\n",
              "    }\n",
              "\n",
              "    .colab-df-convert:hover {\n",
              "      background-color: #E2EBFA;\n",
              "      box-shadow: 0px 1px 2px rgba(60, 64, 67, 0.3), 0px 1px 3px 1px rgba(60, 64, 67, 0.15);\n",
              "      fill: #174EA6;\n",
              "    }\n",
              "\n",
              "    [theme=dark] .colab-df-convert {\n",
              "      background-color: #3B4455;\n",
              "      fill: #D2E3FC;\n",
              "    }\n",
              "\n",
              "    [theme=dark] .colab-df-convert:hover {\n",
              "      background-color: #434B5C;\n",
              "      box-shadow: 0px 1px 3px 1px rgba(0, 0, 0, 0.15);\n",
              "      filter: drop-shadow(0px 1px 2px rgba(0, 0, 0, 0.3));\n",
              "      fill: #FFFFFF;\n",
              "    }\n",
              "  </style>\n",
              "\n",
              "      <script>\n",
              "        const buttonEl =\n",
              "          document.querySelector('#df-c506835c-3d89-41ef-bbe1-e0a44f6b3a49 button.colab-df-convert');\n",
              "        buttonEl.style.display =\n",
              "          google.colab.kernel.accessAllowed ? 'block' : 'none';\n",
              "\n",
              "        async function convertToInteractive(key) {\n",
              "          const element = document.querySelector('#df-c506835c-3d89-41ef-bbe1-e0a44f6b3a49');\n",
              "          const dataTable =\n",
              "            await google.colab.kernel.invokeFunction('convertToInteractive',\n",
              "                                                     [key], {});\n",
              "          if (!dataTable) return;\n",
              "\n",
              "          const docLinkHtml = 'Like what you see? Visit the ' +\n",
              "            '<a target=\"_blank\" href=https://colab.research.google.com/notebooks/data_table.ipynb>data table notebook</a>'\n",
              "            + ' to learn more about interactive tables.';\n",
              "          element.innerHTML = '';\n",
              "          dataTable['output_type'] = 'display_data';\n",
              "          await google.colab.output.renderOutput(dataTable, element);\n",
              "          const docLink = document.createElement('div');\n",
              "          docLink.innerHTML = docLinkHtml;\n",
              "          element.appendChild(docLink);\n",
              "        }\n",
              "      </script>\n",
              "    </div>\n",
              "  </div>\n",
              "  "
            ]
          },
          "metadata": {},
          "execution_count": 53
        }
      ]
    },
    {
      "cell_type": "code",
      "source": [
        "#Plotting demand-supply gap for all request time slot\n",
        "sns.catplot(x='Total Gap', y='Request Time Slot', kind='bar', data=gap_df, height=5, aspect=2)\n",
        "plt.title('Gap for each Request Time Slot')\n",
        "plt.xlabel('Total Gap')"
      ],
      "metadata": {
        "colab": {
          "base_uri": "https://localhost:8080/",
          "height": 403
        },
        "id": "T6ZAqyV_iAvH",
        "outputId": "543d476d-6375-4d70-a507-c6764abb4dbf"
      },
      "execution_count": null,
      "outputs": [
        {
          "output_type": "execute_result",
          "data": {
            "text/plain": [
              "Text(0.5, 6.79999999999999, 'Total Gap')"
            ]
          },
          "metadata": {},
          "execution_count": 54
        },
        {
          "output_type": "display_data",
          "data": {
            "text/plain": [
              "<Figure size 720x360 with 1 Axes>"
            ],
            "image/png": "[encoded data removed]"
          },
          "metadata": {
            "needs_background": "light"
          }
        }
      ]
    },
    {
      "cell_type": "markdown",
      "source": [
        "*   Demand Supply Gap is maximum in evening hours\n",
        "*   Demand Supply Gap is minimum in noon hours"
      ],
      "metadata": {
        "id": "Fls8rKd3NCSr"
      }
    },
    {
      "cell_type": "code",
      "source": [
        "#Visualizing Gap differentiated by pickup points and all time slots\n",
        "\n",
        "labels = gap_df['Request Time Slot']\n",
        "gap_airport = gap_df['Gap_From_Airport']\n",
        "gap_city = gap_df['Gap_From_City']\n",
        "width = 0.35\n",
        "\n",
        "fig, ax = plt.subplots()\n",
        "\n",
        "ax.bar(labels, gap_airport, width, label='Airport')\n",
        "ax.bar(labels, gap_city, width, bottom=gap_airport, label='City')\n",
        "ax.set_ylabel('Gap')\n",
        "ax.set_title('Gap by Time Slot and Pickup Point')\n",
        "ax.legend()\n",
        "\n",
        "plt.show()"
      ],
      "metadata": {
        "colab": {
          "base_uri": "https://localhost:8080/",
          "height": 281
        },
        "id": "g0kInhHUMx0i",
        "outputId": "0c6f88a2-e573-486d-b2bb-bc41fa7f49db"
      },
      "execution_count": null,
      "outputs": [
        {
          "output_type": "display_data",
          "data": {
            "text/plain": [
              "<Figure size 432x288 with 1 Axes>"
            ],
            "image/png": "[encoded data removed]"
          },
          "metadata": {
            "needs_background": "light"
          }
        }
      ]
    },
    {
      "cell_type": "markdown",
      "source": [
        "We can clearly see that gap is maximum for Airport rides in Evening hours & City rides in early morning hours"
      ],
      "metadata": {
        "id": "VIXYTu4reSfY"
      }
    },
    {
      "cell_type": "code",
      "source": [
        "#Plotting demand & supply for all time slots as calculated in gap_df dataframe\n",
        "\n",
        "demandVsGap = sns.pairplot(gap_df, x_vars='Total Demand', y_vars='Total Supply', hue='Request Time Slot', plot_kws={'alpha': 1, 's' : 200}, height=5)\n"
      ],
      "metadata": {
        "id": "q7AOndqQdCCc",
        "colab": {
          "base_uri": "https://localhost:8080/",
          "height": 374
        },
        "outputId": "9cc4b85a-ed81-4d72-8f59-8fc3215b2c3a"
      },
      "execution_count": null,
      "outputs": [
        {
          "output_type": "display_data",
          "data": {
            "text/plain": [
              "<Figure size 465x360 with 1 Axes>"
            ],
            "image/png": "[encoded data removed]"
          },
          "metadata": {
            "needs_background": "light"
          }
        }
      ]
    },
    {
      "cell_type": "code",
      "source": [
        "#Plotting demand-supply for city to airport rides\n",
        "\n",
        "cityVsGap = sns.pairplot(gap_df, x_vars='Demand_From_City', y_vars='Supply_To_City', hue='Request Time Slot', plot_kws={'alpha': 1, 's' : 200}, height=5)"
      ],
      "metadata": {
        "colab": {
          "base_uri": "https://localhost:8080/",
          "height": 374
        },
        "id": "oTXcwtgeYmOz",
        "outputId": "299ed639-bcc0-43a1-e7be-d99e8c6af4a2"
      },
      "execution_count": null,
      "outputs": [
        {
          "output_type": "display_data",
          "data": {
            "text/plain": [
              "<Figure size 465x360 with 1 Axes>"
            ],
            "image/png": "[encoded data removed]"
          },
          "metadata": {
            "needs_background": "light"
          }
        }
      ]
    },
    {
      "cell_type": "markdown",
      "source": [
        "Numbers calculated in gap_df for City Demand-Supply can be visualised in the above plot"
      ],
      "metadata": {
        "id": "lTgdBG1LaZ26"
      }
    },
    {
      "cell_type": "code",
      "source": [
        "#Plotting demand-supply for Airport to City Rides\n",
        "\n",
        "airportVsGap = sns.pairplot(gap_df, x_vars='Demand_From_Airport', y_vars='Supply_To_Airport', hue='Request Time Slot', plot_kws={'alpha': 1, 's' : 200}, height=5)"
      ],
      "metadata": {
        "colab": {
          "base_uri": "https://localhost:8080/",
          "height": 374
        },
        "id": "-gIZfrkXZ9u2",
        "outputId": "0af62457-ef4d-4feb-c59b-bb1a68d5b5b8"
      },
      "execution_count": null,
      "outputs": [
        {
          "output_type": "display_data",
          "data": {
            "text/plain": [
              "<Figure size 465x360 with 1 Axes>"
            ],
            "image/png": "[encoded data removed]"
          },
          "metadata": {
            "needs_background": "light"
          }
        }
      ]
    },
    {
      "cell_type": "markdown",
      "source": [
        "Numbers calculated in gap_df for Airport Demand-Supply can be visualised in the above plot"
      ],
      "metadata": {
        "id": "PLXlU5KEa-ii"
      }
    },
    {
      "cell_type": "code",
      "source": [
        "#Percentage wise distribution of rides for city and airport pickup points (Early morning hours and evening hours)\n",
        "\n",
        "def pie_chart(dataframe):\n",
        "  labels = dataframe.index.values\n",
        "  sizes = dataframe['Status'].values\n",
        "\n",
        "  fig1, ax1 = plt.subplots()\n",
        "  ax1.pie(sizes, labels=labels, autopct = '%1.1f%%', shadow=True, startangle = 90)\n",
        "  ax1.axis('equal')\n",
        "  plt.show()"
      ],
      "metadata": {
        "id": "vlV89maVa5g1"
      },
      "execution_count": null,
      "outputs": []
    },
    {
      "cell_type": "code",
      "source": [
        "#Distribution of trips as City during evening hours\n",
        "df_city = df_city_request.loc[df_city_request['Request Time Slot'] == 'Evening Hours']\n",
        "df_city_count = pd.DataFrame(df_city.Status.value_counts())\n",
        "pie_chart(df_city_count)"
      ],
      "metadata": {
        "colab": {
          "base_uri": "https://localhost:8080/",
          "height": 248
        },
        "id": "TTMgD64ib7By",
        "outputId": "ab1edbc9-8882-4e9b-ca56-c9258ab3067d"
      },
      "execution_count": null,
      "outputs": [
        {
          "output_type": "display_data",
          "data": {
            "text/plain": [
              "<Figure size 432x288 with 1 Axes>"
            ],
            "image/png": "[encoded data removed]"
          },
          "metadata": {}
        }
      ]
    },
    {
      "cell_type": "code",
      "source": [
        "#Distribution of trips as Airport during evening hours\n",
        "df_airport = df_airport_request.loc[df_airport_request['Request Time Slot'] == 'Evening Hours']\n",
        "df_airport_count = pd.DataFrame(df_airport.Status.value_counts())\n",
        "pie_chart(df_airport_count)"
      ],
      "metadata": {
        "colab": {
          "base_uri": "https://localhost:8080/",
          "height": 252
        },
        "id": "-0d-7KKwEFio",
        "outputId": "c8a5761d-7b20-443b-bce7-4172323be5b3"
      },
      "execution_count": null,
      "outputs": [
        {
          "output_type": "display_data",
          "data": {
            "text/plain": [
              "<Figure size 432x288 with 1 Axes>"
            ],
            "image/png": "[encoded data removed]"
          },
          "metadata": {}
        }
      ]
    },
    {
      "cell_type": "code",
      "source": [
        "#Exporting final uber data set to csv\n",
        "df.to_csv('Uber Data.csv')"
      ],
      "metadata": {
        "id": "ahqDZB6sEU1x"
      },
      "execution_count": null,
      "outputs": []
    },
    {
      "cell_type": "code",
      "source": [
        "#Exporting gap uber data set to csv\n",
        "gap_df.to_csv('Gap Data.csv')"
      ],
      "metadata": {
        "id": "9vnyIWnBFI6Y"
      },
      "execution_count": null,
      "outputs": []
    }
  ],
  "metadata": {
    "colab": {
      "collapsed_sections": [],
      "provenance": []
    },
    "kernelspec": {
      "display_name": "Python 3",
      "name": "python3"
    },
    "language_info": {
      "name": "python"
    }
  },
  "nbformat": 4,
  "nbformat_minor": 0
}